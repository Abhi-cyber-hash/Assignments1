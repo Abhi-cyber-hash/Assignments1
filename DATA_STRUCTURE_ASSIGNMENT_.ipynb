{
  "nbformat": 4,
  "nbformat_minor": 0,
  "metadata": {
    "colab": {
      "provenance": []
    },
    "kernelspec": {
      "name": "python3",
      "display_name": "Python 3"
    },
    "language_info": {
      "name": "python"
    }
  },
  "cells": [
    {
      "cell_type": "markdown",
      "source": [
        "**Q1.Write a code to reverse a stringe.**\n",
        "\n",
        "\n"
      ],
      "metadata": {
        "id": "tlupR-C0gwOn"
      }
    },
    {
      "cell_type": "code",
      "source": [
        "def reverse_string(s):\n",
        "    return s[::-1]\n",
        "\n",
        "# Example usage:\n",
        "input_string = \"Hello, World!\"\n",
        "reversed_string = reverse_string(input_string)\n",
        "print(\"Reversed string:\", reversed_string)"
      ],
      "metadata": {
        "colab": {
          "base_uri": "https://localhost:8080/"
        },
        "id": "Tgv3NG1IhaMm",
        "outputId": "67dbbb4a-6257-4704-d041-8740151163d0"
      },
      "execution_count": null,
      "outputs": [
        {
          "output_type": "stream",
          "name": "stdout",
          "text": [
            "Reversed string: !dlroW ,olleH\n"
          ]
        }
      ]
    },
    {
      "cell_type": "markdown",
      "source": [
        "**Q2. Write a code to count the number of vowels in a string.**"
      ],
      "metadata": {
        "id": "rpWM1U5Bh6Uq"
      }
    },
    {
      "cell_type": "code",
      "source": [
        "def count_vowels(s):\n",
        "    vowels = \"aeiouAEIOU\"  # List of vowels (both lowercase and uppercase)\n",
        "    count = 0\n",
        "\n",
        "    for char in s:\n",
        "        if char in vowels:\n",
        "            count += 1\n",
        "\n",
        "    return count\n",
        "\n",
        "# Example usage:\n",
        "input_string = \"Hello, World!\"\n",
        "vowel_count = count_vowels(input_string)\n",
        "print(\"Number of vowels:\", vowel_count)\n"
      ],
      "metadata": {
        "colab": {
          "base_uri": "https://localhost:8080/"
        },
        "id": "8DWKAV83iYi4",
        "outputId": "eab71d86-b43c-4c26-fdf5-9df3e0df3bf1"
      },
      "execution_count": null,
      "outputs": [
        {
          "output_type": "stream",
          "name": "stdout",
          "text": [
            "Number of vowels: 3\n"
          ]
        }
      ]
    },
    {
      "cell_type": "markdown",
      "source": [
        "**Q3. Write a code to check if a given string is a palindrome or not.**"
      ],
      "metadata": {
        "id": "ivcXRiMbiixg"
      }
    },
    {
      "cell_type": "code",
      "source": [
        "def is_palindrome(s):\n",
        "    # Remove spaces and convert the string to lowercase for consistency\n",
        "    s = s.replace(\" \", \"\").lower()\n",
        "\n",
        "    # Check if the string is equal to its reverse\n",
        "    return s == s[::-1]\n",
        "\n",
        "# Example usage:\n",
        "input_string = \"A man a plan a canal Panama\"\n",
        "if is_palindrome(input_string):\n",
        "    print(\"The string is a palindrome.\")\n",
        "else:\n",
        "    print(\"The string is not a palindrome.\")\n"
      ],
      "metadata": {
        "colab": {
          "base_uri": "https://localhost:8080/"
        },
        "id": "ZCNs-7P9jDpJ",
        "outputId": "f35f3b80-9668-417a-a398-4a4de5e9afca"
      },
      "execution_count": null,
      "outputs": [
        {
          "output_type": "stream",
          "name": "stdout",
          "text": [
            "The string is a palindrome.\n"
          ]
        }
      ]
    },
    {
      "cell_type": "markdown",
      "source": [
        "**Q4. Write a code to check if two given strings are anagrams of each other.**"
      ],
      "metadata": {
        "id": "GzVf4rZpjQpq"
      }
    },
    {
      "cell_type": "code",
      "source": [
        "def are_anagrams(str1, str2):\n",
        "    # Remove spaces and convert to lowercase for consistency\n",
        "    str1 = str1.replace(\" \", \"\").lower()\n",
        "    str2 = str2.replace(\" \", \"\").lower()\n",
        "\n",
        "    # Check if sorted versions of the strings are the same\n",
        "    return sorted(str1) == sorted(str2)\n",
        "\n",
        "# Example usage:\n",
        "string1 = \"Listen\"\n",
        "string2 = \"Silent\"\n",
        "if are_anagrams(string1, string2):\n",
        "    print(\"The strings are anagrams.\")\n",
        "else:\n",
        "    print(\"The strings are not anagrams.\")\n"
      ],
      "metadata": {
        "colab": {
          "base_uri": "https://localhost:8080/"
        },
        "id": "6YE7WkZ1jwwm",
        "outputId": "ed4f2d11-7c43-4b15-d9e8-a966e215ebe8"
      },
      "execution_count": null,
      "outputs": [
        {
          "output_type": "stream",
          "name": "stdout",
          "text": [
            "The strings are anagrams.\n"
          ]
        }
      ]
    },
    {
      "cell_type": "markdown",
      "source": [
        "**Q5. Write a code to find all occurrences of a given substring within another strings.**"
      ],
      "metadata": {
        "id": "KPgFAOp6j0pv"
      }
    },
    {
      "cell_type": "code",
      "source": [
        "def find_substring_occurrences(main_str, sub_str):\n",
        "    # Initialize an empty list to store the starting indices of occurrences\n",
        "    indices = []\n",
        "\n",
        "    # Start searching for the substring\n",
        "    start = 0\n",
        "    while True:\n",
        "        start = main_str.find(sub_str, start)  # Find the substring starting from 'start' index\n",
        "        if start == -1:\n",
        "            break  # No more occurrences found, exit the loop\n",
        "        indices.append(start)  # Store the index where the substring was found\n",
        "        start += 1  # Move start index forward to continue the search\n",
        "\n",
        "    return indices\n",
        "\n",
        "# Example usage:\n",
        "main_string = \"This is a test string, and this is another test.\"\n",
        "substring = \"is\"\n",
        "occurrences = find_substring_occurrences(main_string, substring)\n",
        "\n",
        "if occurrences:\n",
        "    print(\"Occurrences found at indices:\", occurrences)\n",
        "else:\n",
        "    print(\"No occurrences found.\")\n"
      ],
      "metadata": {
        "colab": {
          "base_uri": "https://localhost:8080/"
        },
        "id": "Gqy0bqcfjyCk",
        "outputId": "e7c9118e-34d3-462a-cb77-a82c4c01dde7"
      },
      "execution_count": null,
      "outputs": [
        {
          "output_type": "stream",
          "name": "stdout",
          "text": [
            "Occurrences found at indices: [2, 5, 29, 32]\n"
          ]
        }
      ]
    },
    {
      "cell_type": "markdown",
      "source": [
        "**Q6. Write a code to perform basic string compression using the counts of repeated characters.**"
      ],
      "metadata": {
        "id": "otp6r4B8kZp2"
      }
    },
    {
      "cell_type": "code",
      "source": [
        "def find_substring_occurrences(main_str, sub_str):\n",
        "    # Initialize an empty list to store the starting indices of occurrences\n",
        "    indices = []\n",
        "\n",
        "    # Start searching for the substring\n",
        "    start = 0\n",
        "    while True:\n",
        "        start = main_str.find(sub_str, start)  # Find the substring starting from 'start' index\n",
        "        if start == -1:\n",
        "            break  # No more occurrences found, exit the loop\n",
        "        indices.append(start)  # Store the index where the substring was found\n",
        "        start += 1  # Move start index forward to continue the search\n",
        "\n",
        "    return indices\n",
        "\n",
        "# Example usage:\n",
        "main_string = \"This is a test string, and this is another test.\"\n",
        "substring = \"is\"\n",
        "occurrences = find_substring_occurrences(main_string, substring)\n",
        "\n",
        "if occurrences:\n",
        "    print(\"Occurrences found at indices:\", occurrences)\n",
        "else:\n",
        "    print(\"No occurrences found.\")\n"
      ],
      "metadata": {
        "colab": {
          "base_uri": "https://localhost:8080/"
        },
        "id": "TWcmwszhkVTx",
        "outputId": "e1ecccd0-9f60-49e1-a47e-efb1fd710667"
      },
      "execution_count": null,
      "outputs": [
        {
          "output_type": "stream",
          "name": "stdout",
          "text": [
            "Occurrences found at indices: [2, 5, 29, 32]\n"
          ]
        }
      ]
    },
    {
      "cell_type": "markdown",
      "source": [
        "**Q7. Write a code to determine if a string has all unique chaacters.**"
      ],
      "metadata": {
        "id": "n4tbfDmPlA67"
      }
    },
    {
      "cell_type": "code",
      "source": [
        "def compress_string(s):\n",
        "    # Initialize a result string to store the compressed version\n",
        "    compressed = []\n",
        "\n",
        "    # Initialize a count variable\n",
        "    count = 1\n",
        "\n",
        "    # Iterate through the string and count consecutive characters\n",
        "    for i in range(1, len(s)):\n",
        "        if s[i] == s[i - 1]:\n",
        "            count += 1  # Increment count if the current character is the same as the previous\n",
        "        else:\n",
        "            # Append the character and its count to the result list\n",
        "            compressed.append(s[i - 1] + str(count))\n",
        "            count = 1  # Reset the count for the new character\n",
        "\n",
        "    # Append the last character and its count\n",
        "    compressed.append(s[-1] + str(count))\n",
        "\n",
        "    # Join the list into a string and return it\n",
        "    return ''.join(compressed)\n",
        "\n",
        "# Example usage:\n",
        "input_string = \"aaabbbcccaaa\"\n",
        "compressed_string = compress_string(input_string)\n",
        "print(\"Compressed string:\", compressed_string)\n"
      ],
      "metadata": {
        "colab": {
          "base_uri": "https://localhost:8080/"
        },
        "id": "0RFhL2aWlXsz",
        "outputId": "54a726c1-82d0-4dfe-9ff9-0623b6dc3a1c"
      },
      "execution_count": null,
      "outputs": [
        {
          "output_type": "stream",
          "name": "stdout",
          "text": [
            "Compressed string: a3b3c3a3\n"
          ]
        }
      ]
    },
    {
      "cell_type": "markdown",
      "source": [
        "**Q8. Write a code to convert a given string to uppercase or lowercase.**"
      ],
      "metadata": {
        "id": "vjZiSjOhlbTj"
      }
    },
    {
      "cell_type": "code",
      "source": [
        "def convert_case(s, to_upper=True):\n",
        "    if to_upper:\n",
        "        return s.upper()  # Convert to uppercase\n",
        "    else:\n",
        "        return s.lower()  # Convert to lowercase\n",
        "\n",
        "# Example usage:\n",
        "input_string = \"Hello, World!\"\n",
        "\n",
        "# Convert to uppercase\n",
        "uppercase_string = convert_case(input_string, to_upper=True)\n",
        "print(\"Uppercase:\", uppercase_string)\n",
        "\n",
        "# Convert to lowercase\n",
        "lowercase_string = convert_case(input_string, to_upper=False)\n",
        "print(\"Lowercase:\", lowercase_string)\n",
        "\n",
        "\n"
      ],
      "metadata": {
        "colab": {
          "base_uri": "https://localhost:8080/"
        },
        "id": "Rya2jw4SlYgW",
        "outputId": "3f682918-f4bb-427a-87ac-ff5e7d184a34"
      },
      "execution_count": null,
      "outputs": [
        {
          "output_type": "stream",
          "name": "stdout",
          "text": [
            "Uppercase: HELLO, WORLD!\n",
            "Lowercase: hello, world!\n"
          ]
        }
      ]
    },
    {
      "cell_type": "markdown",
      "source": [
        "**Q9 Write a code to count the number of words in a strings.**"
      ],
      "metadata": {
        "id": "nuYBSHrHnKa7"
      }
    },
    {
      "cell_type": "code",
      "source": [
        "def count_words(input_string):\n",
        "    # Split the string by spaces (this also handles multiple spaces)\n",
        "    words = input_string.split()\n",
        "    # Return the number of words\n",
        "    return len(words)\n",
        "\n",
        "# Example usage:\n",
        "input_string = \"This is a test string with several words.\"\n",
        "print(\"Number of words:\", count_words(input_string))\n"
      ],
      "metadata": {
        "colab": {
          "base_uri": "https://localhost:8080/"
        },
        "id": "OYFerVNdmLSS",
        "outputId": "bbf66cf3-e4ba-4fbd-91be-482aa4ca7117"
      },
      "execution_count": null,
      "outputs": [
        {
          "output_type": "stream",
          "name": "stdout",
          "text": [
            "Number of words: 8\n"
          ]
        }
      ]
    },
    {
      "cell_type": "markdown",
      "source": [
        "**Q10 Write a code to concatenate two strings without using the + operator.**"
      ],
      "metadata": {
        "id": "DZ6-SKlDqhgt"
      }
    },
    {
      "cell_type": "code",
      "source": [
        "def concatenate_strings(str1, str2):\n",
        "    return ''.join([str1, str2])\n",
        "\n",
        "# Example usage:\n",
        "string1 = \"Hello\"\n",
        "string2 = \"World\"\n",
        "print(concatenate_strings(string1, string2))\n"
      ],
      "metadata": {
        "colab": {
          "base_uri": "https://localhost:8080/"
        },
        "id": "3wI51WmwrfT8",
        "outputId": "32783e2c-4edb-466a-e500-65e29a7a1d50"
      },
      "execution_count": null,
      "outputs": [
        {
          "output_type": "stream",
          "name": "stdout",
          "text": [
            "HelloWorld\n"
          ]
        }
      ]
    },
    {
      "cell_type": "markdown",
      "source": [
        "**Q11 Write a code to remove all occurrences of a specific element from a list.**\n",
        "\n",
        "\n"
      ],
      "metadata": {
        "id": "W1dTM1Qbrdjt"
      }
    },
    {
      "cell_type": "code",
      "source": [
        "def remove_element(lst, element):\n",
        "    # Using list comprehension to remove all occurrences of the element\n",
        "    return [item for item in lst if item != element]\n",
        "\n",
        "# Example usage\n",
        "my_list = [1, 2, 3, 4, 2, 5, 2]\n",
        "element_to_remove = 2\n",
        "new_list = remove_element(my_list, element_to_remove)\n",
        "print(new_list)\n"
      ],
      "metadata": {
        "colab": {
          "base_uri": "https://localhost:8080/"
        },
        "id": "cs5qxchZuut8",
        "outputId": "ffe03ff3-83f0-4d00-e7b4-e5266ee40510"
      },
      "execution_count": null,
      "outputs": [
        {
          "output_type": "stream",
          "name": "stdout",
          "text": [
            "[1, 3, 4, 5]\n"
          ]
        }
      ]
    },
    {
      "cell_type": "markdown",
      "source": [
        "**Q12. Implement a code to find the second largest number in a given list of integers.**"
      ],
      "metadata": {
        "id": "TZBx4ZwGu_jp"
      }
    },
    {
      "cell_type": "code",
      "source": [
        "def second_largest(lst):\n",
        "    # Ensure the list has at least two unique elements\n",
        "    if len(lst) < 2:\n",
        "        return None  # Not enough elements to find second largest\n",
        "\n",
        "    # Initialize two variables to track the largest and second largest\n",
        "    largest = second = float('-inf')\n",
        "\n",
        "    for num in lst:\n",
        "        if num > largest:\n",
        "            second = largest\n",
        "            largest = num\n",
        "        elif num > second and num != largest:\n",
        "            second = num\n",
        "\n",
        "    return second if second != float('-inf') else None  # If no second largest found\n",
        "\n",
        "# Example usage\n",
        "my_list = [10, 20, 4, 45, 99, 99]\n",
        "result = second_largest(my_list)\n",
        "print(\"Second largest number is:\", result)\n"
      ],
      "metadata": {
        "colab": {
          "base_uri": "https://localhost:8080/"
        },
        "id": "4yjSUpqRv6Ir",
        "outputId": "9e3950bb-a11f-4720-f7f9-1f1a61142401"
      },
      "execution_count": null,
      "outputs": [
        {
          "output_type": "stream",
          "name": "stdout",
          "text": [
            "Second largest number is: 45\n"
          ]
        }
      ]
    },
    {
      "cell_type": "markdown",
      "source": [
        "**Q13. Create a code to count the occurrences of each element in a list and return a dictionary with elements as key and their counts as values.**"
      ],
      "metadata": {
        "id": "JHNpXC8Ywqsv"
      }
    },
    {
      "cell_type": "code",
      "source": [
        "def count_occurrences(lst):\n",
        "    count_dict = {}\n",
        "\n",
        "    for item in lst:\n",
        "        if item in count_dict:\n",
        "            count_dict[item] += 1\n",
        "        else:\n",
        "            count_dict[item] = 1\n",
        "\n",
        "    return count_dict\n",
        "\n",
        "# Example usage\n",
        "my_list = [1, 2, 2, 3, 4, 4, 4, 5]\n",
        "result = count_occurrences(my_list)\n",
        "print(result)\n"
      ],
      "metadata": {
        "colab": {
          "base_uri": "https://localhost:8080/"
        },
        "id": "bR-mk-Uf2i0T",
        "outputId": "e6607cc1-5bac-4162-f524-b9824be34f0b"
      },
      "execution_count": null,
      "outputs": [
        {
          "output_type": "stream",
          "name": "stdout",
          "text": [
            "{1: 1, 2: 2, 3: 1, 4: 3, 5: 1}\n"
          ]
        }
      ]
    },
    {
      "cell_type": "markdown",
      "source": [
        "**Q14 Write a code to reverse a list in-place without using any\n",
        " built-in reverse functions.**"
      ],
      "metadata": {
        "id": "HCLpzt5NNUTm"
      }
    },
    {
      "cell_type": "code",
      "source": [
        "def reverse_list_in_place(lst):\n",
        "    # Initialize pointers at the beginning and end of the list\n",
        "    left, right = 0, len(lst) - 1\n",
        "\n",
        "    while left < right:\n",
        "        # Swap the elements at the left and right pointers\n",
        "        lst[left], lst[right] = lst[right], lst[left]\n",
        "\n",
        "        # Move the pointers towards the center\n",
        "        left += 1\n",
        "        right -= 1\n",
        "\n",
        "# Example usage\n",
        "my_list = [1, 2, 3, 4, 5]\n",
        "reverse_list_in_place(my_list)\n",
        "print(my_list)\n"
      ],
      "metadata": {
        "colab": {
          "base_uri": "https://localhost:8080/"
        },
        "id": "CdXGg2vH2lRW",
        "outputId": "98600819-02c7-4af3-80e3-fcc6fef2e0ee"
      },
      "execution_count": null,
      "outputs": [
        {
          "output_type": "stream",
          "name": "stdout",
          "text": [
            "[5, 4, 3, 2, 1]\n"
          ]
        }
      ]
    },
    {
      "cell_type": "markdown",
      "source": [
        "**Q15. Implement a code to find and remove duplicates from a list while preserving the original order of\n",
        "elements.**"
      ],
      "metadata": {
        "id": "WDUPHJjROn5L"
      }
    },
    {
      "cell_type": "code",
      "source": [
        "def remove_duplicates(lst):\n",
        "    seen = set()  # Set to keep track of seen elements\n",
        "    result = []   # List to store the result with no duplicates\n",
        "\n",
        "    for item in lst:\n",
        "        if item not in seen:\n",
        "            result.append(item)  # Add item to result list if not seen before\n",
        "            seen.add(item)  # Mark the item as seen\n",
        "\n",
        "    return result\n",
        "\n",
        "# Example usage\n",
        "my_list = [1, 2, 2, 3, 4, 4, 5]\n",
        "new_list = remove_duplicates(my_list)\n",
        "print(new_list)\n"
      ],
      "metadata": {
        "colab": {
          "base_uri": "https://localhost:8080/"
        },
        "id": "RHLtjq-1MwQn",
        "outputId": "1a2a50b5-f4ef-4368-cb87-aa08a882a586"
      },
      "execution_count": null,
      "outputs": [
        {
          "output_type": "stream",
          "name": "stdout",
          "text": [
            "[1, 2, 3, 4, 5]\n"
          ]
        }
      ]
    },
    {
      "cell_type": "markdown",
      "source": [
        "**Q16. Create a code to check if a given list is sorted (either in 'ascnding or des%ending order) or not.**"
      ],
      "metadata": {
        "id": "kO_MIEjFPXbg"
      }
    },
    {
      "cell_type": "code",
      "source": [
        "def is_sorted(lst):\n",
        "    # Check if the list is sorted in ascending order\n",
        "    if lst == sorted(lst):\n",
        "        return \"Sorted in ascending order\"\n",
        "\n",
        "    # Check if the list is sorted in descending order\n",
        "    elif lst == sorted(lst, reverse=True):\n",
        "        return \"Sorted in descending order\"\n",
        "\n",
        "    # If neither, the list is not sorted\n",
        "    else:\n",
        "        return \"Not sorted\"\n",
        "\n",
        "# Example usage\n",
        "my_list = [1, 2, 3, 4, 5]\n",
        "result = is_sorted(my_list)\n",
        "print(result)  # Output: Sorted in ascending order\n",
        "\n",
        "my_list2 = [5, 4, 3, 2, 1]\n",
        "result2 = is_sorted(my_list2)\n",
        "print(result2)  # Output: Sorted in descending order\n",
        "\n",
        "my_list3 = [1, 3, 2, 5, 4]\n",
        "result3 = is_sorted(my_list3)\n",
        "print(result3)  # Output: Not sorted\n"
      ],
      "metadata": {
        "colab": {
          "base_uri": "https://localhost:8080/"
        },
        "id": "9-T7EzWJPWOB",
        "outputId": "403a71c2-49c9-44ca-93f6-e9d1889ee0e2"
      },
      "execution_count": null,
      "outputs": [
        {
          "output_type": "stream",
          "name": "stdout",
          "text": [
            "Sorted in ascending order\n",
            "Sorted in descending order\n",
            "Not sorted\n"
          ]
        }
      ]
    },
    {
      "cell_type": "markdown",
      "source": [
        "**Q17. Write a code to merge two sorted lists into a single sorted list.**"
      ],
      "metadata": {
        "id": "I1pQ4zSUP5Bl"
      }
    },
    {
      "cell_type": "code",
      "source": [
        "def merge_sorted_lists(list1, list2):\n",
        "    merged_list = []\n",
        "    i, j = 0, 0\n",
        "\n",
        "    # Iterate through both lists\n",
        "    while i < len(list1) and j < len(list2):\n",
        "        if list1[i] < list2[j]:\n",
        "            merged_list.append(list1[i])\n",
        "            i += 1\n",
        "        else:\n",
        "            merged_list.append(list2[j])\n",
        "            j += 1\n",
        "\n",
        "    # If there are remaining elements in list1, add them\n",
        "    if i < len(list1):\n",
        "        merged_list.extend(list1[i:])\n",
        "\n",
        "    # If there are remaining elements in list2, add them\n",
        "    if j < len(list2):\n",
        "        merged_list.extend(list2[j:])\n",
        "\n",
        "    return merged_list\n",
        "\n",
        "# Example usage\n",
        "list1 = [1, 3, 5, 7]\n",
        "list2 = [2, 4, 6, 8]\n",
        "merged = merge_sorted_lists(list1, list2)\n",
        "print(merged)\n"
      ],
      "metadata": {
        "colab": {
          "base_uri": "https://localhost:8080/"
        },
        "id": "PmFRTFCsP2nU",
        "outputId": "62a9d3e3-2256-4f36-fe7c-2982547f6f57"
      },
      "execution_count": null,
      "outputs": [
        {
          "output_type": "stream",
          "name": "stdout",
          "text": [
            "[1, 2, 3, 4, 5, 6, 7, 8]\n"
          ]
        }
      ]
    },
    {
      "cell_type": "markdown",
      "source": [
        "**Q18. Implement a code to find the intersection of two given lists.**"
      ],
      "metadata": {
        "id": "GBUwlsi5QXlb"
      }
    },
    {
      "cell_type": "code",
      "source": [
        "def intersection_of_lists(list1, list2):\n",
        "    # Convert both lists to sets and find the intersection\n",
        "    return list(set(list1) & set(list2))\n",
        "\n",
        "# Example usage\n",
        "list1 = [1, 2, 3, 4, 5]\n",
        "list2 = [4, 5, 6, 7, 8]\n",
        "intersection = intersection_of_lists(list1, list2)\n",
        "print(intersection)\n"
      ],
      "metadata": {
        "colab": {
          "base_uri": "https://localhost:8080/"
        },
        "id": "eUEREjsZQVsl",
        "outputId": "8c078f11-f97c-45da-9ec8-baa9fbb73761"
      },
      "execution_count": null,
      "outputs": [
        {
          "output_type": "stream",
          "name": "stdout",
          "text": [
            "[4, 5]\n"
          ]
        }
      ]
    },
    {
      "cell_type": "markdown",
      "source": [
        "**Q19. Create a code to find the union of two lists without duplicates.**"
      ],
      "metadata": {
        "id": "HFxgfj3UQx0-"
      }
    },
    {
      "cell_type": "code",
      "source": [
        "def union_of_lists(list1, list2):\n",
        "    # Convert both lists to sets and find the union\n",
        "    return list(set(list1) | set(list2))\n",
        "\n",
        "# Example usage\n",
        "list1 = [1, 2, 3, 4, 5]\n",
        "list2 = [4, 5, 6, 7, 8]\n",
        "union = union_of_lists(list1, list2)\n",
        "print(union)\n"
      ],
      "metadata": {
        "colab": {
          "base_uri": "https://localhost:8080/"
        },
        "id": "QP1DZ4y0Qt_g",
        "outputId": "8e3305ba-0765-494c-ba0c-9928867c9636"
      },
      "execution_count": null,
      "outputs": [
        {
          "output_type": "stream",
          "name": "stdout",
          "text": [
            "[1, 2, 3, 4, 5, 6, 7, 8]\n"
          ]
        }
      ]
    },
    {
      "cell_type": "code",
      "source": [
        "def union_of_lists_ordered(list1, list2):\n",
        "    # Combine both lists and remove duplicates while preserving the order\n",
        "    result = []\n",
        "    seen = set()\n",
        "    for item in list1 + list2:\n",
        "        if item not in seen:\n",
        "            result.append(item)\n",
        "            seen.add(item)\n",
        "    return result\n",
        "\n",
        "# Example usage\n",
        "union_ordered = union_of_lists_ordered(list1, list2)\n",
        "print(union_ordered)\n"
      ],
      "metadata": {
        "colab": {
          "base_uri": "https://localhost:8080/"
        },
        "id": "xLlpL-pRRVUx",
        "outputId": "4a75e9b8-1f40-4ed8-bdb5-8ead410bb916"
      },
      "execution_count": null,
      "outputs": [
        {
          "output_type": "stream",
          "name": "stdout",
          "text": [
            "[1, 2, 3, 4, 5, 6, 7, 8]\n"
          ]
        }
      ]
    },
    {
      "cell_type": "markdown",
      "source": [
        "**Q20. Write a code to shuffle a given list randomly without using any\n",
        " built-in shuffle functions.**"
      ],
      "metadata": {
        "id": "NU5iP7R_RpnX"
      }
    },
    {
      "cell_type": "code",
      "source": [
        "import random\n",
        "\n",
        "def shuffle_list(lst):\n",
        "    # Fisher-Yates shuffle algorithm\n",
        "    n = len(lst)\n",
        "    for i in range(n-1, 0, -1):\n",
        "        # Randomly select an index between 0 and i\n",
        "        j = random.randint(0, i)\n",
        "        # Swap the elements at i and j\n",
        "        lst[i], lst[j] = lst[j], lst[i]\n",
        "\n",
        "# Example usage\n",
        "my_list = [1, 2, 3, 4, 5]\n",
        "shuffle_list(my_list)\n",
        "print(my_list)\n"
      ],
      "metadata": {
        "colab": {
          "base_uri": "https://localhost:8080/"
        },
        "id": "s6p0FFixRjJe",
        "outputId": "a68a1d8e-2ff1-4220-a184-171fd732e4db"
      },
      "execution_count": null,
      "outputs": [
        {
          "output_type": "stream",
          "name": "stdout",
          "text": [
            "[4, 1, 5, 2, 3]\n"
          ]
        }
      ]
    },
    {
      "cell_type": "markdown",
      "source": [
        "**Q21. Write a code that takes two tuples as input and returns a new tuple containing elements that are common to both input tuples.**"
      ],
      "metadata": {
        "id": "XUlpfdSbSvGy"
      }
    },
    {
      "cell_type": "code",
      "source": [
        "def common_elements(tuple1, tuple2):\n",
        "    # Convert both tuples to sets and find the intersection\n",
        "    common_set = set(tuple1) & set(tuple2)\n",
        "    # Return the intersection as a tuple\n",
        "    return tuple(common_set)\n",
        "\n",
        "# Example usage\n",
        "tuple1 = (1, 2, 3, 4, 5)\n",
        "tuple2 = (4, 5, 6, 7, 8)\n",
        "result = common_elements(tuple1, tuple2)\n",
        "print(result)\n"
      ],
      "metadata": {
        "colab": {
          "base_uri": "https://localhost:8080/"
        },
        "id": "puKFwPyxSsDo",
        "outputId": "6b5dfe2c-9e71-4d2b-cfee-cf558804c4fb"
      },
      "execution_count": null,
      "outputs": [
        {
          "output_type": "stream",
          "name": "stdout",
          "text": [
            "(4, 5)\n"
          ]
        }
      ]
    },
    {
      "cell_type": "markdown",
      "source": [
        "**Q22. Create a code that prompts the user to enter two\n",
        "sets of integers sapearted by commas. Then, print the\n",
        "intersection of these two sets.**"
      ],
      "metadata": {
        "id": "oJ6dLE_gTwKA"
      }
    },
    {
      "cell_type": "code",
      "source": [
        "# Prompt the user to enter the first set of integers\n",
        "set1_input = input(\"Enter the first set of integers (separated by commas): \")\n",
        "set1 = set(map(int, set1_input.split(',')))\n",
        "\n",
        "# Prompt the user to enter the second set of integers\n",
        "set2_input = input(\"Enter the second set of integers (separated by commas): \")\n",
        "set2 = set(map(int, set2_input.split(',')))\n",
        "\n",
        "# Find the intersection of the two sets\n",
        "intersection = set1.intersection(set2)\n",
        "\n",
        "# Print the intersection\n",
        "print(\"The intersection of the two sets is:\", intersection)\n"
      ],
      "metadata": {
        "id": "bao0pcbyTmqQ"
      },
      "execution_count": null,
      "outputs": []
    },
    {
      "cell_type": "markdown",
      "source": [
        "**Q23. Write a code to concatenate two tuples. The funtion should take two tuples as input and return a new tuple containing elements from both input tuples.**"
      ],
      "metadata": {
        "id": "7uU4YzzC_3uB"
      }
    },
    {
      "cell_type": "code",
      "source": [
        "def concatenate_tuples(tuple1, tuple2):\n",
        "    # Concatenate the two tuples\n",
        "    result = tuple1 + tuple2\n",
        "    return result\n",
        "\n",
        "# Example usage:\n",
        "tuple1 = (1, 2, 3)\n",
        "tuple2 = (4, 5, 6)\n",
        "\n",
        "# Call the function and print the result\n",
        "concatenated_tuple = concatenate_tuples(tuple1, tuple2)\n",
        "print(\"Concatenated Tuple:\", concatenated_tuple)\n"
      ],
      "metadata": {
        "id": "CI8xIMLY_sIN"
      },
      "execution_count": null,
      "outputs": []
    },
    {
      "cell_type": "markdown",
      "source": [
        "**Q24. Develop a code that prompts the user to input two sets of strings. Then, print the elements that are present in the first set but not in the second set.**"
      ],
      "metadata": {
        "id": "n7OjFw7lBOR9"
      }
    },
    {
      "cell_type": "code",
      "source": [
        "# Prompt the user to enter the first set of strings\n",
        "set1_input = input(\"Enter the first set of strings (separated by commas): \")\n",
        "set1 = set(set1_input.split(','))\n",
        "\n",
        "# Prompt the user to enter the second set of strings\n",
        "set2_input = input(\"Enter the second set of strings (separated by commas): \")\n",
        "set2 = set(set2_input.split(','))\n",
        "\n",
        "# Find the elements that are in the first set but not in the second set\n",
        "difference = set1 - set2\n",
        "\n",
        "# Print the difference\n",
        "print(\"Elements in the first set but not in the second set:\", difference)\n"
      ],
      "metadata": {
        "id": "Q_ikVXrwAqmQ"
      },
      "execution_count": null,
      "outputs": []
    },
    {
      "cell_type": "markdown",
      "source": [
        "**Q25. Creste a code that takes a tuple and two integers as input. The function should return a new tuple\n",
        "containing elements from the originil tuple within the specified range of indices.**"
      ],
      "metadata": {
        "id": "mRqb4BB0CMxi"
      }
    },
    {
      "cell_type": "code",
      "source": [
        "# Prompt the user to enter the first set of strings\n",
        "set1_input = input(\"Enter the first set of strings (separated by commas): \")\n",
        "set1 = set(set1_input.split(','))\n",
        "\n",
        "# Prompt the user to enter the second set of strings\n",
        "set2_input = input(\"Enter the second set of strings (separated by commas): \")\n",
        "set2 = set(set2_input.split(','))\n",
        "\n",
        "# Find the elements that are in the first set but not in the second set\n",
        "difference = set1 - set2\n",
        "\n",
        "# Print the difference\n",
        "print(\"Elements in the first set but not in the second set:\", difference)\n"
      ],
      "metadata": {
        "id": "XgnJhK9GCKMe"
      },
      "execution_count": null,
      "outputs": []
    },
    {
      "cell_type": "markdown",
      "source": [
        "**Q26. Write a code that prompts the user to input two sets of characters. Than print the union of these two sets.**"
      ],
      "metadata": {
        "id": "kv3ZbvFGGmd6"
      }
    },
    {
      "cell_type": "code",
      "source": [
        "def get_set_union():\n",
        "    # Prompt the user for two sets of characters\n",
        "    set1 = set(input(\"Enter the first set of characters: \"))\n",
        "    set2 = set(input(\"Enter the second set of characters: \"))\n",
        "\n",
        "    # Find the union of the two sets\n",
        "    union_set = set1 | set2\n",
        "\n",
        "    # Print the result\n",
        "    print(\"The union of the two sets is:\", union_set)\n",
        "\n",
        "# Call the function to execute\n",
        "get_set_union()\n"
      ],
      "metadata": {
        "id": "0yhxYpFQHFfA"
      },
      "execution_count": null,
      "outputs": []
    },
    {
      "cell_type": "markdown",
      "source": [
        "**Q27. Develop a code that takes a tuple of integers as input. The function should return the maximum and minimum values from the tuple using tuple unpacking.**"
      ],
      "metadata": {
        "id": "4IQb7JpQFa5Z"
      }
    },
    {
      "cell_type": "code",
      "source": [
        "def find_max_min(nums):\n",
        "    # Use tuple unpacking to return the max and min values\n",
        "    max_value, min_value = max(nums), min(nums)\n",
        "    return max_value, min_value\n",
        "\n",
        "# Example usage:\n",
        "numbers = (10, 3, 5, 23, 7, 2)\n",
        "max_val, min_val = find_max_min(numbers)\n",
        "print(f\"Maximum value: {max_val}\")\n",
        "print(f\"Minimum value: {min_val}\")\n"
      ],
      "metadata": {
        "id": "jhgoydm7FaF-"
      },
      "execution_count": null,
      "outputs": []
    },
    {
      "cell_type": "markdown",
      "source": [
        "**Q28. Create a code that defines two sets of integers. Then print the union intersection and difference of these two sets.**"
      ],
      "metadata": {
        "id": "8cx2THCxHHz1"
      }
    },
    {
      "cell_type": "code",
      "source": [
        "def set_operations():\n",
        "    # Define two sets of integers\n",
        "    set1 = {1, 2, 3, 4, 5}\n",
        "    set2 = {4, 5, 6, 7, 8}\n",
        "\n",
        "    # Union of set1 and set2\n",
        "    union_set = set1 | set2\n",
        "\n",
        "    # Intersection of set1 and set2\n",
        "    intersection_set = set1 & set2\n",
        "\n",
        "    # Difference of set1 and set2 (elements in set1 but not in set2)\n",
        "    difference_set = set1 - set2\n",
        "\n",
        "    # Print the results\n",
        "    print(\"Union of the two sets:\", union_set)\n",
        "    print(\"Intersection of the two sets:\", intersection_set)\n",
        "    print(\"Difference of the two sets (set1 - set2):\", difference_set)\n",
        "\n",
        "# Call the function to execute\n",
        "set_operations()\n"
      ],
      "metadata": {
        "id": "VeA3dYWLC3MR"
      },
      "execution_count": null,
      "outputs": []
    },
    {
      "cell_type": "markdown",
      "source": [
        "**Q29. Wrie a code that takes a tuple and an element as input. The function should return the count of occurrencs of the given elment in the tuple.**"
      ],
      "metadata": {
        "id": "yeakEPtdH58C"
      }
    },
    {
      "cell_type": "code",
      "source": [
        "def count_occurrences(tpl, element):\n",
        "    # Use the count method to find the occurrences of the element\n",
        "    return tpl.count(element)\n",
        "\n",
        "# Example usage:\n",
        "my_tuple = (1, 2, 3, 4, 5, 3, 3, 6)\n",
        "element_to_count = int(input(\"Enter the element to count: \"))\n",
        "occurrences = count_occurrences(my_tuple, element_to_count)\n",
        "\n",
        "print(f\"The element {element_to_count} occurs {occurrences} times in the tuple.\")\n"
      ],
      "metadata": {
        "id": "cDTwaTuzH4TI"
      },
      "execution_count": null,
      "outputs": []
    },
    {
      "cell_type": "markdown",
      "source": [
        "**Q30. Develop a code that prompts the user to input two sets of strings. Then print the symmetric diffeence of\n",
        "these two sets.**"
      ],
      "metadata": {
        "id": "6A6TJ6IEIeLP"
      }
    },
    {
      "cell_type": "code",
      "source": [
        "def symmetric_difference_sets():\n",
        "    # Prompt the user to input two sets of strings\n",
        "    set1 = set(input(\"Enter the first set of strings (space-separated): \").split())\n",
        "    set2 = set(input(\"Enter the second set of strings (space-separated): \").split())\n",
        "\n",
        "    # Calculate the symmetric difference of the two sets\n",
        "    sym_diff = set1 ^ set2\n",
        "\n",
        "    # Print the result\n",
        "    print(\"The symmetric difference of the two sets is:\", sym_diff)\n",
        "\n",
        "# Call the function to execute\n",
        "symmetric_difference_sets()\n"
      ],
      "metadata": {
        "id": "eWCEGdWVIcdE"
      },
      "execution_count": null,
      "outputs": []
    },
    {
      "cell_type": "markdown",
      "source": [
        "**Q31. Write a code that takes a list of words as input and returns a dictionary where the keys ae unique words and the values are the frequencies of those words in the input list.**"
      ],
      "metadata": {
        "id": "b-X__GxMI5lt"
      }
    },
    {
      "cell_type": "code",
      "source": [
        "from collections import Counter\n",
        "\n",
        "def word_frequencies():\n",
        "    # Prompt the user to input a list of words (space-separated)\n",
        "    words = input(\"Enter a list of words (space-separated): \").split()\n",
        "\n",
        "    # Use Counter to count the frequencies of each word\n",
        "    word_count = Counter(words)\n",
        "\n",
        "    # Print the resulting dictionary\n",
        "    print(\"Word frequencies:\", dict(word_count))\n",
        "\n",
        "# Call the function to execute\n",
        "word_frequencies()\n"
      ],
      "metadata": {
        "id": "XFtbIk0OI4rB"
      },
      "execution_count": null,
      "outputs": []
    },
    {
      "cell_type": "markdown",
      "source": [
        "**Q32. Write a code that takes two dictionaries as input and merges them into a single dictionary. If there are common keys the values should be added together.**"
      ],
      "metadata": {
        "id": "cJ-r_G4iJ0NZ"
      }
    },
    {
      "cell_type": "code",
      "source": [
        "def merge_and_add_dicts(dict1, dict2):\n",
        "    # Create a new dictionary to store the merged results\n",
        "    merged_dict = dict1.copy()  # Start with a copy of the first dictionary\n",
        "\n",
        "    # Iterate over the second dictionary\n",
        "    for key, value in dict2.items():\n",
        "        if key in merged_dict:\n",
        "            # If the key is in both dictionaries, add the values together\n",
        "            merged_dict[key] += value\n",
        "        else:\n",
        "            # If the key is only in dict2, just add it to the merged dictionary\n",
        "            merged_dict[key] = value\n",
        "\n",
        "    return merged_dict\n",
        "\n",
        "# Example usage:\n",
        "dict1 = {'apple': 2, 'banana': 3, 'cherry': 1}\n",
        "dict2 = {'banana': 1, 'cherry': 2, 'date': 4}\n",
        "\n",
        "merged = merge_and_add_dicts(dict1, dict2)\n",
        "print(\"Merged Dictionary:\", merged)\n"
      ],
      "metadata": {
        "id": "YSHNjTKqJxcx"
      },
      "execution_count": null,
      "outputs": []
    },
    {
      "cell_type": "markdown",
      "source": [
        "**Q33. Write a coe to access a value in a nested dictionary. The function should take the dictionary and a list of keys as input and return the corresponding value. If any of the keys do not exist in the dictionary,the function should return Non.**"
      ],
      "metadata": {
        "id": "b00mxosPKYe5"
      }
    },
    {
      "cell_type": "code",
      "source": [
        "def access_nested_dict_value(nested_dict, keys):\n",
        "    # Iterate over the list of keys\n",
        "    for key in keys:\n",
        "        # Check if the key exists in the dictionary\n",
        "        if isinstance(nested_dict, dict) and key in nested_dict:\n",
        "            nested_dict = nested_dict[key]  # Update nested_dict to the next level\n",
        "        else:\n",
        "            return None  # If the key is not found, return None\n",
        "    return nested_dict  # Return the final value after all keys are found\n",
        "\n",
        "# Example usage:\n",
        "nested_dict = {\n",
        "    'a': {\n",
        "        'b': {\n",
        "            'c': 10\n",
        "        },\n",
        "        'x': 5\n",
        "    },\n",
        "    'y': 20\n",
        "}\n",
        "\n",
        "keys = ['a', 'b', 'c']\n",
        "result = access_nested_dict_value(nested_dict, keys)\n",
        "print(\"The value is:\", result)\n",
        "\n",
        "keys_not_found = ['a', 'z', 'c']\n",
        "result_not_found = access_nested_dict_value(nested_dict, keys_not_found)\n",
        "print(\"The value is:\", result_not_found)\n"
      ],
      "metadata": {
        "id": "ZQ7CuVkaKVIg"
      },
      "execution_count": null,
      "outputs": []
    },
    {
      "cell_type": "markdown",
      "source": [
        "**Q34. Wrie a code that takes a dictionary as input and returns a sorted version of it based on the values. You can choose whether to sort in ascending or descending ordere.**"
      ],
      "metadata": {
        "id": "-QVBMoToLQBL"
      }
    },
    {
      "cell_type": "code",
      "source": [
        "def sort_dict_by_value(input_dict, ascending=True):\n",
        "    # Sort the dictionary by its values, either in ascending or descending order\n",
        "    sorted_dict = dict(sorted(input_dict.items(), key=lambda item: item[1], reverse=not ascending))\n",
        "    return sorted_dict\n",
        "\n",
        "# Example usage:\n",
        "input_dict = {'apple': 3, 'banana': 1, 'cherry': 2, 'date': 4}\n",
        "\n",
        "# Sort in ascending order\n",
        "sorted_asc = sort_dict_by_value(input_dict, ascending=True)\n",
        "print(\"Sorted in ascending order:\", sorted_asc)\n",
        "\n",
        "# Sort in descending order\n",
        "sorted_desc = sort_dict_by_value(input_dict, ascending=False)\n",
        "print(\"Sorted in descending order:\", sorted_desc)\n"
      ],
      "metadata": {
        "id": "z8sqEWDBLNqL"
      },
      "execution_count": null,
      "outputs": []
    },
    {
      "cell_type": "markdown",
      "source": [
        "**Q35. Write a code that inverts a dictionary swapping keys and values. Ensure that the inverted dictionary correctly handles cases where multiple keys have the same value by storing te keys as a list in the\n",
        "inverted dictionary.**"
      ],
      "metadata": {
        "id": "JK_pKs37L0ud"
      }
    },
    {
      "cell_type": "code",
      "source": [
        "def invert_dict(input_dict):\n",
        "    inverted_dict = {}\n",
        "\n",
        "    # Iterate over each key-value pair in the input dictionary\n",
        "    for key, value in input_dict.items():\n",
        "        # If the value is already in the inverted dictionary, append the key to the list\n",
        "        if value in inverted_dict:\n",
        "            inverted_dict[value].append(key)\n",
        "        else:\n",
        "            # If the value is not in the inverted dictionary, create a new list with the key\n",
        "            inverted_dict[value] = [key]\n",
        "\n",
        "    return inverted_dict\n",
        "\n",
        "# Example usage:\n",
        "input_dict = {'a': 1, 'b': 2, 'c': 1, 'd': 3}\n",
        "\n",
        "inverted = invert_dict(input_dict)\n",
        "print(\"Inverted dictionary:\", inverted)\n"
      ],
      "metadata": {
        "id": "Lc6zfiTzLw3V"
      },
      "execution_count": null,
      "outputs": []
    }
  ]
}