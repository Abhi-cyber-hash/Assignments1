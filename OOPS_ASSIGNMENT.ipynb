{
  "nbformat": 4,
  "nbformat_minor": 0,
  "metadata": {
    "colab": {
      "provenance": []
    },
    "kernelspec": {
      "name": "python3",
      "display_name": "Python 3"
    },
    "language_info": {
      "name": "python"
    }
  },
  "cells": [
    {
      "cell_type": "markdown",
      "source": [
        "**1. What are the five key concepts of Object-Oriented Programming (OOP)?**\n",
        "\n",
        "**Ans.** The five key concepts of Object-Oriented Programming (OOP) are:\n",
        "\n",
        "1. **Encapsulation** – This concept involves bundling the data (attributes) and methods (functions) that operate on the data into a single unit known as a class. It helps protect the data from outside interference and misuse by restricting access through private and public access modifiers.\n",
        "\n",
        "2. **Abstraction** – Abstraction focuses on hiding the complex implementation details and exposing only the necessary features or interfaces to the user. It simplifies interactions with complex systems by showing only essential information and leaving out the unnecessary complexities.\n",
        "\n",
        "3. **Inheritance** – Inheritance allows a new class (called a subclass or derived class) to inherit properties and behaviors (methods) from an existing class (called a superclass or base class). It promotes code reuse and establishes a relationship between classes.\n",
        "\n",
        "4. **Polymorphism** – Polymorphism allows objects of different classes to be treated as objects of a common superclass. It enables a single interface to represent different types of objects, and methods can behave differently based on the object calling them (e.g., method overloading or overriding).\n",
        "\n",
        "5. **Composition** – Composition is a design principle where one object is composed of one or more objects from other classes. It implies a \"has-a\" relationship (as opposed to inheritance, which represents an \"is-a\" relationship) and allows for more flexible and modular designs.\n",
        "\n",
        "These concepts work together to make code more modular, reusable, and easier to maintain."
      ],
      "metadata": {
        "id": "b7LQpdqpVrYJ"
      }
    },
    {
      "cell_type": "markdown",
      "source": [
        "**2. Write a Python class for a `Car` with attributes for `make`, `model`, and `year`. Include a method to display\n",
        "the car's information.**"
      ],
      "metadata": {
        "id": "rO2uLKFgWOhk"
      }
    },
    {
      "cell_type": "code",
      "execution_count": 1,
      "metadata": {
        "id": "VDwYGMlGNdsC",
        "colab": {
          "base_uri": "https://localhost:8080/"
        },
        "outputId": "ba0ef4fe-be04-481d-8d6f-a5d6d23242e7"
      },
      "outputs": [
        {
          "output_type": "stream",
          "name": "stdout",
          "text": [
            "Car Information: 2020 Toyota Corolla\n"
          ]
        }
      ],
      "source": [
        "class Car:\n",
        "    def __init__(self, make, model, year):\n",
        "        # Initialize the car's attributes\n",
        "        self.make = make\n",
        "        self.model = model\n",
        "        self.year = year\n",
        "\n",
        "    def display_info(self):\n",
        "        # Method to display the car's information\n",
        "        print(f\"Car Information: {self.year} {self.make} {self.model}\")\n",
        "\n",
        "# Example usage:\n",
        "my_car = Car(\"Toyota\", \"Corolla\", 2020)\n",
        "my_car.display_info()\n"
      ]
    },
    {
      "cell_type": "markdown",
      "source": [
        "**3. Explain the difference between instance methods and class methods. Provide an example of each.**\n",
        "\n",
        "**Ans.**In Python, both instance methods and class methods are functions defined within a class, but they differ in how they are called and what they operate on.\n",
        "\n",
        "1. Instance Methods\n",
        "Definition: Instance methods are methods that operate on an instance (object) of the class. They are called on an object and have access to the instance's attributes and other instance methods.\n",
        "First Parameter: The first parameter of an instance method is usually self, which refers to the instance of the class.\n",
        "Usage: Instance methods are used to access or modify the instance's attributes and call other instance methods."
      ],
      "metadata": {
        "id": "MeFwtEEqWwk1"
      }
    },
    {
      "cell_type": "code",
      "source": [
        "class Car:\n",
        "    def __init__(self, make, model, year):\n",
        "        self.make = make\n",
        "        self.model = model\n",
        "        self.year = year\n",
        "\n",
        "    def display_info(self):\n",
        "        print(f\"Car: {self.year} {self.make} {self.model}\")\n",
        "\n",
        "# Creating an instance of Car\n",
        "my_car = Car(\"Tesla\", \"Model S\", 2022)\n",
        "\n",
        "# Calling an instance method on the object\n",
        "my_car.display_info()\n"
      ],
      "metadata": {
        "colab": {
          "base_uri": "https://localhost:8080/"
        },
        "id": "8ZTa_nJtWwLN",
        "outputId": "7a35f075-3b18-4e67-e0e6-3740c9fbc22c"
      },
      "execution_count": 2,
      "outputs": [
        {
          "output_type": "stream",
          "name": "stdout",
          "text": [
            "Car: 2022 Tesla Model S\n"
          ]
        }
      ]
    },
    {
      "cell_type": "markdown",
      "source": [
        "2. Class Methods\n",
        "Definition: Class methods are methods that are bound to the class and not the instance. They can be called on the class itself, without creating an object of that class. They have access to the class's attributes and other class methods, but not to instance-specific data.\n",
        "First Parameter: The first parameter of a class method is cls, which refers to the class itself.\n",
        "Usage: Class methods are often used for factory methods (methods that create instances) or for modifying class-level data."
      ],
      "metadata": {
        "id": "3HeGYJp4XhG3"
      }
    },
    {
      "cell_type": "code",
      "source": [
        "class Car:\n",
        "    number_of_cars = 0  # A class attribute\n",
        "\n",
        "    def __init__(self, make, model, year):\n",
        "        self.make = make\n",
        "        self.model = model\n",
        "        self.year = year\n",
        "        Car.number_of_cars += 1  # Increment the class attribute\n",
        "\n",
        "    @classmethod\n",
        "    def car_count(cls):\n",
        "        print(f\"Total number of cars: {cls.number_of_cars}\")\n",
        "\n",
        "# Creating instances of Car\n",
        "car1 = Car(\"Tesla\", \"Model X\", 2022)\n",
        "car2 = Car(\"Ford\", \"Mustang\", 2021)\n",
        "\n",
        "# Calling a class method on the class itself\n",
        "Car.car_count()\n"
      ],
      "metadata": {
        "colab": {
          "base_uri": "https://localhost:8080/"
        },
        "id": "cyLoB7afWpkc",
        "outputId": "debeefa7-a892-440c-d2cb-5a9a88c883f7"
      },
      "execution_count": 3,
      "outputs": [
        {
          "output_type": "stream",
          "name": "stdout",
          "text": [
            "Total number of cars: 2\n"
          ]
        }
      ]
    },
    {
      "cell_type": "markdown",
      "source": [
        "**4. How does Python implement method overloading? Give an example.**\n",
        "\n",
        "**Ans.**In Python, method overloading (a feature where you can define multiple methods with the same name but different parameters) is not directly supported in the traditional sense, as Python does not allow multiple methods with the same name within a class. However, Python allows method overloading-like behavior by using default arguments, variable-length arguments, or conditional logic within a single method.\n",
        "\n",
        "Ways to simulate method overloading in Python:\n",
        "Using Default Arguments: You can provide default values for parameters, allowing the method to handle different numbers of arguments.\n",
        "\n",
        "Using *args and **kwargs: You can accept any number of positional or keyword arguments and then handle them inside the method based on the number or types of arguments passed.\n",
        "\n",
        "Conditional Logic: You can use conditions (e.g., if statements) inside the method to handle different argument types or numbers of arguments."
      ],
      "metadata": {
        "id": "zLTQN5fCXsUh"
      }
    },
    {
      "cell_type": "code",
      "source": [
        "class Calculator:\n",
        "    def add(self, a, b=0, c=0):\n",
        "        return a + b + c\n",
        "\n",
        "# Creating an instance of Calculator\n",
        "calc = Calculator()\n",
        "\n",
        "# Calling the method with different numbers of arguments\n",
        "print(calc.add(5))          # Output: 5 (only a is provided)\n",
        "print(calc.add(5, 3))       # Output: 8 (a and b are provided)\n",
        "print(calc.add(5, 3, 2))    # Output: 10 (a, b, and c are provided)\n"
      ],
      "metadata": {
        "colab": {
          "base_uri": "https://localhost:8080/"
        },
        "id": "T6AXVXcSXlQl",
        "outputId": "6ff2314b-d34d-416a-db01-454e244cddbf"
      },
      "execution_count": 4,
      "outputs": [
        {
          "output_type": "stream",
          "name": "stdout",
          "text": [
            "5\n",
            "8\n",
            "10\n"
          ]
        }
      ]
    },
    {
      "cell_type": "markdown",
      "source": [
        "**5. What are the three types of access modifiers in Python? How are they denoted?**\n",
        "\n",
        "**Ans.**In Python, there are three types of access modifiers that control the visibility and accessibility of class attributes and methods. These are:\n",
        "\n",
        "1. Public Access Modifier\n",
        "Description: Public attributes and methods are accessible from anywhere, both inside and outside the class.\n",
        "Denotation: No special prefix is used. Public members are simply written without any underscores."
      ],
      "metadata": {
        "id": "UXNdvmOaYdcO"
      }
    },
    {
      "cell_type": "code",
      "source": [
        "class MyClass:\n",
        "    def __init__(self):\n",
        "        self.public_attribute = \"I'm public\"\n",
        "\n",
        "    def public_method(self):\n",
        "        print(\"This is a public method.\")\n",
        "\n",
        "obj = MyClass()\n",
        "print(obj.public_attribute)  # Accessing public attribute\n",
        "obj.public_method()          # Calling public method\n"
      ],
      "metadata": {
        "colab": {
          "base_uri": "https://localhost:8080/"
        },
        "id": "H-bghoLBYPZ1",
        "outputId": "b83b7cf6-8c87-4ab3-d761-0f34e99cc32c"
      },
      "execution_count": 5,
      "outputs": [
        {
          "output_type": "stream",
          "name": "stdout",
          "text": [
            "I'm public\n",
            "This is a public method.\n"
          ]
        }
      ]
    },
    {
      "cell_type": "markdown",
      "source": [
        "Access: Public attributes and methods can be accessed directly by anyone using the object, like obj.public_attribute or obj.public_method().\n",
        "2. Protected Access Modifier\n",
        "Description: Protected attributes and methods are meant to be accessed only within the class and its subclasses (i.e., not for external use). It's a convention rather than a strict enforcement of privacy.\n",
        "Denotation: A single underscore (_) before the attribute or method name signifies that it's protected."
      ],
      "metadata": {
        "id": "kw00pw1BYzYj"
      }
    },
    {
      "cell_type": "code",
      "source": [
        "class MyClass:\n",
        "    def __init__(self):\n",
        "        self._protected_attribute = \"I'm protected\"\n",
        "\n",
        "    def _protected_method(self):\n",
        "        print(\"This is a protected method.\")\n",
        "\n",
        "class SubClass(MyClass):\n",
        "    def access_protected(self):\n",
        "        print(self._protected_attribute)\n",
        "        self._protected_method()\n",
        "\n",
        "obj = SubClass()\n",
        "obj.access_protected()  # Accessing protected members within subclass\n"
      ],
      "metadata": {
        "colab": {
          "base_uri": "https://localhost:8080/"
        },
        "id": "3mdl7gkqYx8X",
        "outputId": "1cd2be49-9cde-4acf-dd70-9be0ed80835e"
      },
      "execution_count": 6,
      "outputs": [
        {
          "output_type": "stream",
          "name": "stdout",
          "text": [
            "I'm protected\n",
            "This is a protected method.\n"
          ]
        }
      ]
    },
    {
      "cell_type": "markdown",
      "source": [
        "Access: Although the protected attributes and methods can technically be accessed from outside the class (e.g., obj._protected_attribute), it's generally discouraged. These members are meant to be used within the class or its subclasses.\n",
        "3. Private Access Modifier\n",
        "Description: Private attributes and methods are meant to be accessed only within the class itself. They are not intended to be accessed or modified directly from outside the class. Python \"name-mangles\" private attributes to make them harder to accidentally access.\n",
        "Denotation: A double underscore (__) before the attribute or method name denotes that it's private."
      ],
      "metadata": {
        "id": "Qju0NFwvZCZR"
      }
    },
    {
      "cell_type": "code",
      "source": [
        "class MyClass:\n",
        "    def __init__(self):\n",
        "        self.__private_attribute = \"I'm private\"\n",
        "\n",
        "    def __private_method(self):\n",
        "        print(\"This is a private method.\")\n",
        "\n",
        "    def access_private(self):\n",
        "        print(self.__private_attribute)  # Accessing private attribute within the class\n",
        "        self.__private_method()          # Calling private method within the class\n",
        "\n",
        "obj = MyClass()\n",
        "obj.access_private()  # Valid access within the class\n",
        "\n",
        "# Trying to access private members outside the class\n",
        "# print(obj.__private_attribute)  # This will raise an AttributeError\n",
        "# obj.__private_method()          # This will raise an AttributeError\n"
      ],
      "metadata": {
        "colab": {
          "base_uri": "https://localhost:8080/"
        },
        "id": "Htb0Vsd1Y6vv",
        "outputId": "4f8a4abb-6a73-45c7-e466-8db466a66b1f"
      },
      "execution_count": 7,
      "outputs": [
        {
          "output_type": "stream",
          "name": "stdout",
          "text": [
            "I'm private\n",
            "This is a private method.\n"
          ]
        }
      ]
    },
    {
      "cell_type": "markdown",
      "source": [
        "**6. Describe the five types of inheritance in Python. Provide a simple example of multiple inheritance.**\n",
        "\n",
        "**Ans.**In Python, inheritance allows a class (called a subclass) to inherit attributes and methods from another class (called a superclass). There are five main types of inheritance, each describing how classes are related to one another.\n",
        "\n",
        "1. Single Inheritance\n",
        "Definition: In single inheritance, a subclass inherits from one superclass.\n",
        "Example: One class inherits from another class."
      ],
      "metadata": {
        "id": "1xhLv_BjZH9Z"
      }
    },
    {
      "cell_type": "code",
      "source": [
        "class Animal:\n",
        "    def speak(self):\n",
        "        print(\"Animal makes a sound\")\n",
        "\n",
        "class Dog(Animal):\n",
        "    def bark(self):\n",
        "        print(\"Dog barks\")\n",
        "\n",
        "# Creating an instance of Dog\n",
        "dog = Dog()\n",
        "dog.speak()  # Inherited method from Animal\n",
        "dog.bark()   # Method of Dog class\n"
      ],
      "metadata": {
        "colab": {
          "base_uri": "https://localhost:8080/"
        },
        "id": "x7aVvSFfZvRe",
        "outputId": "eec7c4e7-94dd-4e79-b641-3ad21e48f861"
      },
      "execution_count": 8,
      "outputs": [
        {
          "output_type": "stream",
          "name": "stdout",
          "text": [
            "Animal makes a sound\n",
            "Dog barks\n"
          ]
        }
      ]
    },
    {
      "cell_type": "markdown",
      "source": [
        "2. Multiple Inheritance\n",
        "Definition: In multiple inheritance, a subclass inherits from more than one superclass. This allows the subclass to inherit features from multiple classes.\n",
        "Example: A class inherits from two or more classes."
      ],
      "metadata": {
        "id": "jWf3_WlpZx7B"
      }
    },
    {
      "cell_type": "code",
      "source": [
        "class Animal:\n",
        "    def speak(self):\n",
        "        print(\"Animal makes a sound\")\n",
        "\n",
        "class Dog:\n",
        "    def bark(self):\n",
        "        print(\"Dog barks\")\n",
        "\n",
        "class Bird:\n",
        "    def fly(self):\n",
        "        print(\"Bird flies\")\n",
        "\n",
        "class Bat(Animal, Dog, Bird):\n",
        "    def hang(self):\n",
        "        print(\"Bat hangs upside down\")\n",
        "\n",
        "# Creating an instance of Bat\n",
        "bat = Bat()\n",
        "bat.speak()  # Inherited from Animal\n",
        "bat.bark()   # Inherited from Dog\n",
        "bat.fly()    # Inherited from Bird\n",
        "bat.hang()   # Method of Bat class\n"
      ],
      "metadata": {
        "colab": {
          "base_uri": "https://localhost:8080/"
        },
        "id": "nIEVj4oZZv-h",
        "outputId": "a8a5b8f5-24b0-4159-914d-1b71839044bb"
      },
      "execution_count": 9,
      "outputs": [
        {
          "output_type": "stream",
          "name": "stdout",
          "text": [
            "Animal makes a sound\n",
            "Dog barks\n",
            "Bird flies\n",
            "Bat hangs upside down\n"
          ]
        }
      ]
    },
    {
      "cell_type": "markdown",
      "source": [
        "3. Multilevel Inheritance\n",
        "Definition: In multilevel inheritance, a class inherits from another class, which itself is inherited from another class. It forms a chain of inheritance.\n",
        "Example: A class inherits from a class, which in turn inherits from another class."
      ],
      "metadata": {
        "id": "ahdYAO4oZ7-x"
      }
    },
    {
      "cell_type": "code",
      "source": [
        "class Animal:\n",
        "    def speak(self):\n",
        "        print(\"Animal makes a sound\")\n",
        "\n",
        "class Mammal(Animal):\n",
        "    def walk(self):\n",
        "        print(\"Mammal walks\")\n",
        "\n",
        "class Dog(Mammal):\n",
        "    def bark(self):\n",
        "        print(\"Dog barks\")\n",
        "\n",
        "# Creating an instance of Dog\n",
        "dog = Dog()\n",
        "dog.speak()  # Inherited from Animal\n",
        "dog.walk()   # Inherited from Mammal\n",
        "dog.bark()   # Method of Dog class\n"
      ],
      "metadata": {
        "colab": {
          "base_uri": "https://localhost:8080/"
        },
        "id": "tYHsKE4fZ6a4",
        "outputId": "c12e68c5-35b5-44ff-dd1c-c3939f011524"
      },
      "execution_count": 10,
      "outputs": [
        {
          "output_type": "stream",
          "name": "stdout",
          "text": [
            "Animal makes a sound\n",
            "Mammal walks\n",
            "Dog barks\n"
          ]
        }
      ]
    },
    {
      "cell_type": "markdown",
      "source": [
        "4. Hierarchical Inheritance\n",
        "Definition: In hierarchical inheritance, multiple classes inherit from a single superclass. Multiple subclasses share the same superclass.\n",
        "Example: Multiple subclasses inherit from one parent class."
      ],
      "metadata": {
        "id": "5dc-44BdaGJN"
      }
    },
    {
      "cell_type": "code",
      "source": [
        "class Animal:\n",
        "    def speak(self):\n",
        "        print(\"Animal makes a sound\")\n",
        "\n",
        "class Dog(Animal):\n",
        "    def bark(self):\n",
        "        print(\"Dog barks\")\n",
        "\n",
        "class Cat(Animal):\n",
        "    def meow(self):\n",
        "        print(\"Cat meows\")\n",
        "\n",
        "# Creating instances of Dog and Cat\n",
        "dog = Dog()\n",
        "dog.speak()  # Inherited from Animal\n",
        "dog.bark()   # Method of Dog class\n",
        "\n",
        "cat = Cat()\n",
        "cat.speak()  # Inherited from Animal\n",
        "cat.meow()   # Method of Cat class\n"
      ],
      "metadata": {
        "colab": {
          "base_uri": "https://localhost:8080/"
        },
        "id": "jrJni3AwaCmH",
        "outputId": "5f609d1c-0f2a-456c-ce11-436aecbed22a"
      },
      "execution_count": 11,
      "outputs": [
        {
          "output_type": "stream",
          "name": "stdout",
          "text": [
            "Animal makes a sound\n",
            "Dog barks\n",
            "Animal makes a sound\n",
            "Cat meows\n"
          ]
        }
      ]
    },
    {
      "cell_type": "markdown",
      "source": [
        "5. Hybrid Inheritance\n",
        "Definition: Hybrid inheritance is a combination of two or more types of inheritance. It can be a mix of any of the above types, such as multiple inheritance and multilevel inheritance together.\n",
        "Example: A class inherits from multiple classes, and at least one of these classes also inherits from another class."
      ],
      "metadata": {
        "id": "zU4yvy0UaN1w"
      }
    },
    {
      "cell_type": "code",
      "source": [
        "class Animal:\n",
        "    def speak(self):\n",
        "        print(\"Animal makes a sound\")\n",
        "\n",
        "class Mammal(Animal):\n",
        "    def walk(self):\n",
        "        print(\"Mammal walks\")\n",
        "\n",
        "class Dog(Mammal):\n",
        "    def bark(self):\n",
        "        print(\"Dog barks\")\n",
        "\n",
        "class Bird:\n",
        "    def fly(self):\n",
        "        print(\"Bird flies\")\n",
        "\n",
        "class Bat(Dog, Bird):  # Hybrid inheritance combining multiple and multilevel inheritance\n",
        "    def hang(self):\n",
        "        print(\"Bat hangs upside down\")\n",
        "\n",
        "# Creating an instance of Bat\n",
        "bat = Bat()\n",
        "bat.speak()  # Inherited from Animal\n",
        "bat.walk()   # Inherited from Mammal\n",
        "bat.bark()   # Inherited from Dog\n",
        "bat.fly()    # Inherited from Bird\n",
        "bat.hang()   # Method of Bat class\n"
      ],
      "metadata": {
        "id": "V9_ZFt91aKiA"
      },
      "execution_count": null,
      "outputs": []
    },
    {
      "cell_type": "markdown",
      "source": [
        "Summary of the Five Types of Inheritance:\n",
        "Single Inheritance: A subclass inherits from one superclass.\n",
        "Multiple Inheritance: A subclass inherits from multiple superclasses.\n",
        "Multilevel Inheritance: A subclass inherits from a superclass, which itself inherits from another superclass.\n",
        "Hierarchical Inheritance: Multiple subclasses inherit from a single superclass.\n",
        "Hybrid Inheritance: A mix of two or more types of inheritance.\n",
        "Each type of inheritance helps organize code in different ways, and Python supports these various inheritance models flexibly."
      ],
      "metadata": {
        "id": "YXF4kw_oaU0v"
      }
    },
    {
      "cell_type": "markdown",
      "source": [
        "**7. What is the Method Resolution Order (MRO) in Python? How can you retrieve it programmatically?**\n",
        "\n",
        "**Ans.**The Method Resolution Order (MRO) is the order in which Python looks for a method in the inheritance hierarchy when it calls a method on an object. The MRO is crucial in cases of multiple inheritance, where a class inherits from more than one class. Python uses the MRO to determine which method to call when there are methods with the same name in multiple classes.\n",
        "\n",
        "Python follows the C3 linearization algorithm to resolve the MRO. This ensures a consistent order for searching through classes and avoids ambiguity in method lookup.\n",
        "\n",
        "How does MRO work?\n",
        "When you invoke a method on an instance, Python will search for the method in the following order:\n",
        "The current class (the class of the instance).\n",
        "The parent classes, in the order specified by the MRO.\n",
        "The search continues up the inheritance hierarchy until it reaches object, the base class for all Python classes.\n",
        "Example: MRO in Action\n",
        "Consider the following example using multiple inheritance:"
      ],
      "metadata": {
        "id": "mMoD7Kz5aWE_"
      }
    },
    {
      "cell_type": "code",
      "source": [
        "class A:\n",
        "    def speak(self):\n",
        "        print(\"Method from A\")\n",
        "\n",
        "class B(A):\n",
        "    def speak(self):\n",
        "        print(\"Method from B\")\n",
        "\n",
        "class C(A):\n",
        "    def speak(self):\n",
        "        print(\"Method from C\")\n",
        "\n",
        "class D(B, C):\n",
        "    pass\n",
        "\n",
        "# Creating an instance of D\n",
        "d = D()\n",
        "d.speak()\n",
        "\n"
      ],
      "metadata": {
        "colab": {
          "base_uri": "https://localhost:8080/"
        },
        "id": "HT9JSOEwa-7J",
        "outputId": "fb4e587a-c72f-43f4-e09c-1337c1671ad9"
      },
      "execution_count": 12,
      "outputs": [
        {
          "output_type": "stream",
          "name": "stdout",
          "text": [
            "Method from B\n"
          ]
        }
      ]
    },
    {
      "cell_type": "markdown",
      "source": [
        "You can retrieve the MRO of a class by using the mro() method or by accessing the __mro__ attribute, both of which provide the linearized list of classes that Python searches through during method resolution."
      ],
      "metadata": {
        "id": "XIXQk6gMbKJe"
      }
    },
    {
      "cell_type": "code",
      "source": [
        "print(D.mro())\n"
      ],
      "metadata": {
        "id": "UIPe_BIZbLdV"
      },
      "execution_count": null,
      "outputs": []
    },
    {
      "cell_type": "code",
      "source": [
        "print(D.__mro__)\n"
      ],
      "metadata": {
        "id": "stF74hVLbU4W"
      },
      "execution_count": null,
      "outputs": []
    },
    {
      "cell_type": "code",
      "source": [
        "[<class '__main__.D'>, <class '__main__.B'>, <class '__main__.C'>, <class '__main__.A'>, <class 'object'>]\n"
      ],
      "metadata": {
        "id": "VwmZgg3zbX8m"
      },
      "execution_count": null,
      "outputs": []
    },
    {
      "cell_type": "markdown",
      "source": [
        "**8. Create an abstract base class `Shape` with an abstract method `area()`. Then create two subclasses\n",
        "`Circle` and `Rectangle` that implement the `area()` method.**\n",
        "\n",
        "**Ans.**In Python, you can create an abstract base class (ABC) using the abc module. An abstract class cannot be instantiated directly; it serves as a blueprint for other classes. To make a class abstract, you use the ABC class as the base class and the @abstractmethod decorator to define abstract methods that must be implemented by subclasses.\n",
        "\n",
        "Example: Abstract Base Class Shape with Subclasses Circle and Rectangle"
      ],
      "metadata": {
        "id": "cLfg8JGbbuNj"
      }
    },
    {
      "cell_type": "code",
      "source": [
        "from abc import ABC, abstractmethod\n",
        "import math\n",
        "\n",
        "# Abstract base class\n",
        "class Shape(ABC):\n",
        "    @abstractmethod\n",
        "    def area(self):\n",
        "        pass  # The area method must be implemented by subclasses\n",
        "\n",
        "# Subclass for Circle\n",
        "class Circle(Shape):\n",
        "    def __init__(self, radius):\n",
        "        self.radius = radius\n",
        "\n",
        "    def area(self):\n",
        "        return math.pi * self.radius ** 2  # Formula for the area of a circle\n",
        "\n",
        "# Subclass for Rectangle\n",
        "class Rectangle(Shape):\n",
        "    def __init__(self, width, height):\n",
        "        self.width = width\n",
        "        self.height = height\n",
        "\n",
        "    def area(self):\n",
        "        return self.width * self.height  # Formula for the area of a rectangle\n",
        "\n",
        "# Creating instances and calculating areas\n",
        "circle = Circle(5)\n",
        "rectangle = Rectangle(4, 6)\n",
        "\n",
        "print(f\"Area of circle: {circle.area()}\")       # Area of circle\n",
        "print(f\"Area of rectangle: {rectangle.area()}\")  # Area of rectangle\n"
      ],
      "metadata": {
        "colab": {
          "base_uri": "https://localhost:8080/"
        },
        "id": "EilrSmp3cA_F",
        "outputId": "6ec8aaab-3836-4500-a487-70a28c55e979"
      },
      "execution_count": 13,
      "outputs": [
        {
          "output_type": "stream",
          "name": "stdout",
          "text": [
            "Area of circle: 78.53981633974483\n",
            "Area of rectangle: 24\n"
          ]
        }
      ]
    },
    {
      "cell_type": "markdown",
      "source": [
        "Abstract Base Class (Shape):\n",
        "\n",
        "The Shape class is an abstract base class that inherits from ABC.\n",
        "The area() method is marked as abstract using the @abstractmethod decorator. This means that any subclass of Shape must implement the area() method.\n",
        "Subclass for Circle:\n",
        "\n",
        "The Circle class inherits from Shape.\n",
        "It implements the area() method using the formula for the area of a circle (π * r^2), where r is the radius.\n",
        "Subclass for Rectangle:\n",
        "\n",
        "The Rectangle class also inherits from Shape.\n",
        "It implements the area() method using the formula for the area of a rectangle (width * height).\n",
        "Creating Objects and Calculating Areas:\n",
        "\n",
        "You can create instances of Circle and Rectangle, and then call the area() method to calculate and print the areas of these shapes."
      ],
      "metadata": {
        "id": "Yh8lj_1CcHZF"
      }
    },
    {
      "cell_type": "markdown",
      "source": [
        "**9. Demonstrate polymorphism by creating a function that can work with different shape objects to calculate\n",
        "and print their areas.**\n",
        "\n",
        "**Ans.** Polymorphism in Python allows different classes to provide different implementations of the same method. In the context of object-oriented programming, polymorphism enables the same function to work with objects of different classes. In this case, we can write a function that calculates and prints the area of any shape, regardless of whether it's a Circle, Rectangle, or another shape, as long as the shape implements the area() method.\n",
        "\n",
        "Here's how you can demonstrate polymorphism with different shape objects:\n",
        "\n",
        "Example: Demonstrating Polymorphism with Shape Objects"
      ],
      "metadata": {
        "id": "1oaSp_jPcd7X"
      }
    },
    {
      "cell_type": "code",
      "source": [
        "from abc import ABC, abstractmethod\n",
        "import math\n",
        "\n",
        "# Abstract base class\n",
        "class Shape(ABC):\n",
        "    @abstractmethod\n",
        "    def area(self):\n",
        "        pass\n",
        "\n",
        "# Subclass for Circle\n",
        "class Circle(Shape):\n",
        "    def __init__(self, radius):\n",
        "        self.radius = radius\n",
        "\n",
        "    def area(self):\n",
        "        return math.pi * self.radius ** 2  # Area of circle: π * r^2\n",
        "\n",
        "# Subclass for Rectangle\n",
        "class Rectangle(Shape):\n",
        "    def __init__(self, width, height):\n",
        "        self.width = width\n",
        "        self.height = height\n",
        "\n",
        "    def area(self):\n",
        "        return self.width * self.height  # Area of rectangle: width * height\n",
        "\n",
        "# Subclass for Square (a type of Rectangle)\n",
        "class Square(Rectangle):\n",
        "    def __init__(self, side_length):\n",
        "        super().__init__(side_length, side_length)  # A square is a rectangle with equal sides\n",
        "\n",
        "# Function demonstrating polymorphism\n",
        "def print_area(shape):\n",
        "    print(f\"Area of the shape: {shape.area()}\")\n",
        "\n",
        "# Creating instances of different shapes\n",
        "circle = Circle(5)\n",
        "rectangle = Rectangle(4, 6)\n",
        "square = Square(4)\n",
        "\n",
        "# Demonstrating polymorphism: the same function works with different shape objects\n",
        "print_area(circle)      # Area of circle\n",
        "print_area(rectangle)   # Area of rectangle\n",
        "print_area(square)      # Area of square (inherited from Rectangle)\n"
      ],
      "metadata": {
        "colab": {
          "base_uri": "https://localhost:8080/"
        },
        "id": "ZVBlSiuUcCml",
        "outputId": "d1b94533-7f5c-4543-c06a-7dbdc4ecfbb4"
      },
      "execution_count": 14,
      "outputs": [
        {
          "output_type": "stream",
          "name": "stdout",
          "text": [
            "Area of the shape: 78.53981633974483\n",
            "Area of the shape: 24\n",
            "Area of the shape: 16\n"
          ]
        }
      ]
    },
    {
      "cell_type": "markdown",
      "source": [
        "Explanation:\n",
        "Abstract Base Class (Shape):\n",
        "\n",
        "The Shape class is abstract with an abstract method area() that must be implemented by any subclass.\n",
        "Subclass for Circle:\n",
        "\n",
        "The Circle class implements the area() method to calculate the area of a circle using the formula π * r^2.\n",
        "Subclass for Rectangle:\n",
        "\n",
        "The Rectangle class implements the area() method to calculate the area of a rectangle using the formula width * height.\n",
        "The Square class is a special case of Rectangle, where both sides are equal. It calls the Rectangle constructor (super().__init__(side_length, side_length)) to set both width and height to the same value.\n",
        "Polymorphism with print_area:\n",
        "\n",
        "The print_area() function accepts any object that is an instance of Shape (or its subclasses) and calls the area() method. This is an example of polymorphism: even though the objects (circle, rectangle, square) are of different types, they can all be passed to the same function that works with them in the same way.\n",
        "Output:"
      ],
      "metadata": {
        "id": "zB6DhGlfdA0q"
      }
    },
    {
      "cell_type": "markdown",
      "source": [
        "Key Points of Polymorphism:\n",
        "The function print_area() works with objects of different classes (Circle, Rectangle, Square), demonstrating polymorphism.\n",
        "Each subclass provides its own implementation of the area() method, but the function print_area() doesn't need to know which specific class the object belongs to. It just calls area() on the passed object, and Python figures out the correct method to call based on the object's type.\n",
        "This is a powerful feature of object-oriented programming, allowing you to write flexible and reusable code.\n",
        "\n"
      ],
      "metadata": {
        "id": "5BlVS4djdSSC"
      }
    },
    {
      "cell_type": "markdown",
      "source": [
        "**10. Implement encapsulation in a `BankAccount` class with private attributes for `balance` and\n",
        "`account_number`. Include methods for deposit, withdrawal, and balance inquiry.**\n",
        "\n",
        "**Ans.**Encapsulation is one of the core principles of Object-Oriented Programming (OOP). It refers to the practice of keeping the internal state of an object private and providing access to it only through public methods. This helps to protect the data from direct modification and ensures that it can only be changed in valid ways.\n",
        "\n",
        "In this example, we'll implement a BankAccount class with private attributes for balance and account_number. We'll provide methods for depositing money, withdrawing money, and checking the balance, while ensuring the attributes are not directly accessible from outside the class.\n",
        "\n",
        "Example: Implementing Encapsulation in a BankAccount Class"
      ],
      "metadata": {
        "id": "pah1SHCcdZFL"
      }
    },
    {
      "cell_type": "code",
      "source": [
        "class BankAccount:\n",
        "    def __init__(self, account_number, initial_balance=0):\n",
        "        # Private attributes (denoted by a double underscore)\n",
        "        self.__account_number = account_number\n",
        "        self.__balance = initial_balance\n",
        "\n",
        "    # Method to deposit money\n",
        "    def deposit(self, amount):\n",
        "        if amount > 0:\n",
        "            self.__balance += amount\n",
        "            print(f\"Deposited ${amount}. New balance: ${self.__balance}\")\n",
        "        else:\n",
        "            print(\"Deposit amount must be positive.\")\n",
        "\n",
        "    # Method to withdraw money\n",
        "    def withdraw(self, amount):\n",
        "        if amount <= 0:\n",
        "            print(\"Withdrawal amount must be positive.\")\n",
        "        elif amount > self.__balance:\n",
        "            print(\"Insufficient balance.\")\n",
        "        else:\n",
        "            self.__balance -= amount\n",
        "            print(f\"Withdrew ${amount}. New balance: ${self.__balance}\")\n",
        "\n",
        "    # Method to check the balance\n",
        "    def get_balance(self):\n",
        "        return self.__balance\n",
        "\n",
        "    # Method to get the account number (this can be safely accessed)\n",
        "    def get_account_number(self):\n",
        "        return self.__account_number\n",
        "\n",
        "# Creating a BankAccount instance\n",
        "account = BankAccount(\"123456789\", 1000)\n",
        "\n",
        "# Accessing methods\n",
        "account.deposit(500)         # Depositing money\n",
        "account.withdraw(300)        # Withdrawing money\n",
        "print(\"Current Balance:\", account.get_balance())  # Checking balance\n",
        "\n",
        "# Trying to access private attributes directly will raise an AttributeError\n",
        "# print(account.__balance)  # This will raise an error\n"
      ],
      "metadata": {
        "colab": {
          "base_uri": "https://localhost:8080/"
        },
        "id": "ldbfolRzdI6H",
        "outputId": "277981ff-b51b-454f-e5fc-5358bd730307"
      },
      "execution_count": 16,
      "outputs": [
        {
          "output_type": "stream",
          "name": "stdout",
          "text": [
            "Deposited $500. New balance: $1500\n",
            "Withdrew $300. New balance: $1200\n",
            "Current Balance: 1200\n"
          ]
        }
      ]
    },
    {
      "cell_type": "markdown",
      "source": [
        "Private Attributes:\n",
        "\n",
        "__account_number and __balance are marked as private attributes by prefixing them with double underscores (__). These attributes cannot be accessed directly from outside the class.\n",
        "Attempting to access them directly, like account.__balance, will result in an AttributeError.\n",
        "Methods:deposit(): Allows the user to deposit money into the account. It ensures the deposit amount is positive.\n",
        "withdraw(): Allows the user to withdraw money, ensuring that the withdrawal amount is positive and that there is enough balance in the account.\n",
        "get_balance(): Returns the current balance in the account.\n",
        "get_account_number(): Returns the account number. While we keep the account_number private, we provide a getter method to access it if needed.\n",
        "Encapsulation:The class hides the internal state of the balance and account_number attributes. The only way to interact with these attributes is through the provided methods.\n",
        "This ensures that the balance cannot be modified directly, and any modification (deposit or withdrawal) is controlled through the methods.\n",
        "Output:\n",
        "Why is Encapsulation Important?\n",
        "Data Protection: It prevents unauthorized access or modification of the object's internal state. For example, users cannot change the balance directly, which avoids any accidental or malicious tampering.\n",
        "Control: By using getter and setter methods (or similar methods), we can enforce rules for modifying the internal state, such as preventing withdrawals that exceed the available balance.\n",
        "Readability and Maintainability: Encapsulation makes the code easier to maintain by isolating the implementation details (how the balance is stored) from the external interface (how the user interacts with the bank account)."
      ],
      "metadata": {
        "id": "HWZGgZEldxQU"
      }
    },
    {
      "cell_type": "markdown",
      "source": [
        "**11. Write a class that overrides the `__str__` and `__add__` magic methods. What will these methods allow\n",
        "you to do?**\n",
        "\n",
        "**Ans.**In Python, the __str__ and __add__ magic methods (also called dunder methods or special methods) are used to customize how objects are represented as strings and how they can be added together. Overriding these methods allows you to define how objects of a class behave when they are printed or when the + operator is used with them.\n",
        "\n",
        "What do these methods allow you to do?\n",
        "__str__: This method is called when you use the str() function or when you print an object. By overriding this method, you can define a string representation of the object that is more user-friendly and descriptive.\n",
        "\n",
        "__add__: This method is called when you use the + operator with two objects of your class. By overriding this method, you can customize how two objects of the class are added together (e.g., combining values, concatenating, etc.).\n",
        "\n",
        "Example: Overriding __str__ and __add__\n",
        "In Python, the __str__ and __add__ magic methods (also called dunder methods or special methods) are used to customize how objects are represented as strings and how they can be added together. Overriding these methods allows you to define how objects of a class behave when they are printed or when the + operator is used with them.\n",
        "\n",
        "What do these methods allow you to do?\n",
        "__str__: This method is called when you use the str() function or when you print an object. By overriding this method, you can define a string representation of the object that is more user-friendly and descriptive.\n",
        "\n",
        "__add__: This method is called when you use the + operator with two objects of your class. By overriding this method, you can customize how two objects of the class are added together (e.g., combining values, concatenating, etc.).\n",
        "\n",
        "Example: Overriding __str__ and __add__"
      ],
      "metadata": {
        "id": "DSPwh0myd-vQ"
      }
    },
    {
      "cell_type": "code",
      "source": [
        "class Book:\n",
        "    def __init__(self, title, author):\n",
        "        self.title = title\n",
        "        self.author = author\n",
        "\n",
        "    # Overriding __str__ to provide a user-friendly string representation\n",
        "    def __str__(self):\n",
        "        return f\"'{self.title}' by {self.author}\"\n",
        "\n",
        "    # Overriding __add__ to combine the titles of two books\n",
        "    def __add__(self, other):\n",
        "        if isinstance(other, Book):\n",
        "            return Book(f\"{self.title} & {other.title}\", \"Multiple Authors\")\n",
        "        return NotImplemented\n",
        "\n",
        "# Creating two Book objects\n",
        "book1 = Book(\"The Catcher in the Rye\", \"J.D. Salinger\")\n",
        "book2 = Book(\"To Kill a Mockingbird\", \"Harper Lee\")\n",
        "\n",
        "# Using the overridden __str__ method\n",
        "print(book1)  # Output: 'The Catcher in the Rye' by J.D. Salinger\n",
        "print(book2)  # Output: 'To Kill a Mockingbird' by Harper Lee\n",
        "\n",
        "# Using the overridden __add__ method to combine two books\n",
        "combined_book = book1 + book2\n",
        "print(combined_book)  # Output: 'The Catcher in the Rye & To Kill a Mockingbird' by Multiple Authors\n"
      ],
      "metadata": {
        "colab": {
          "base_uri": "https://localhost:8080/"
        },
        "id": "J9YkwZjBdstQ",
        "outputId": "f8f20241-7276-4117-8cfe-01f9b582bf5e"
      },
      "execution_count": 17,
      "outputs": [
        {
          "output_type": "stream",
          "name": "stdout",
          "text": [
            "'The Catcher in the Rye' by J.D. Salinger\n",
            "'To Kill a Mockingbird' by Harper Lee\n",
            "'The Catcher in the Rye & To Kill a Mockingbird' by Multiple Authors\n"
          ]
        }
      ]
    },
    {
      "cell_type": "markdown",
      "source": [
        "Explanation:\n",
        "__str__ Method:\n",
        "\n",
        "The __str__ method returns a string that describes the Book object in a readable way. When you print a Book object or use str() on it, this method is called. The string returned is 'title' by author.\n",
        "In the example, printing book1 will output: 'The Catcher in the Rye' by J.D. Salinger.\n",
        "__add__ Method:\n",
        "\n",
        "The __add__ method is called when you use the + operator with two Book objects. In this example, when two Book objects are added together, the method combines their titles and creates a new Book object with a combined title and a generic \"Multiple Authors\" for the author.\n",
        "n the example, adding book1 and book2 results in a new Book object with the title 'The Catcher in the Rye & To Kill a Mockingbird' and the author 'Multiple Authors'."
      ],
      "metadata": {
        "id": "mC1I-VnTeYDt"
      }
    },
    {
      "cell_type": "markdown",
      "source": [
        "Key Points:\n",
        "__str__ is used to define how an object should be represented as a string, which is useful for printing and logging.\n",
        "__add__ is used to customize the behavior of the + operator between two objects. In our example, it combines the titles of two books, but it could be customized in many ways depending on the context (e.g., combining numerical values, merging lists, etc.).\n",
        "What can you do with these methods?\n",
        "With __str__:\n",
        "Customize how your object appears when printed or converted to a string.\n",
        "Provide a more readable or informative representation of the object for users or developers.\n",
        "With __add__:\n",
        "Define how two objects can be \"added\" together, such as combining strings, performing mathematical operations, or even merging data structures.\n",
        "Make your objects more flexible in mathematical and logical operations.\n",
        "Conclusion:\n",
        "By overriding the __str__ and __add__ methods, you can customize the string representation and the addition behavior of your objects. This makes your classes more intuitive and expressive when interacting with objects of the class in Python code. Let me know if you'd like more examples or further clarification!\n",
        "\n",
        "\n",
        "\n",
        "\n"
      ],
      "metadata": {
        "id": "ySKGcunKefo-"
      }
    },
    {
      "cell_type": "markdown",
      "source": [
        "**12. Create a decorator that measures and prints the execution time of a function.**\n",
        "\n",
        "**Ans.**A decorator in Python is a function that allows you to modify the behavior of another function or method. To create a decorator that measures and prints the execution time of a function, we can use the time module to capture the start and end time of the function execution.\n",
        "\n",
        "Example: Creating a Decorator to Measure Execution Time\n",
        "Here's a simple implementation of such a decorator:"
      ],
      "metadata": {
        "id": "TGsXKJ4VelIq"
      }
    },
    {
      "cell_type": "code",
      "source": [
        "import time\n",
        "\n",
        "# Decorator to measure execution time\n",
        "def measure_execution_time(func):\n",
        "    def wrapper(*args, **kwargs):\n",
        "        start_time = time.time()  # Record start time\n",
        "        result = func(*args, **kwargs)  # Call the original function\n",
        "        end_time = time.time()  # Record end time\n",
        "        execution_time = end_time - start_time  # Calculate the execution time\n",
        "        print(f\"Execution time of '{func.__name__}': {execution_time:.4f} seconds\")\n",
        "        return result  # Return the result of the original function\n",
        "    return wrapper\n",
        "\n",
        "# Example function to test the decorator\n",
        "@measure_execution_time\n",
        "def slow_function():\n",
        "    time.sleep(2)  # Simulate a function that takes time (e.g., 2 seconds)\n",
        "    print(\"Function executed!\")\n",
        "\n",
        "# Call the decorated function\n",
        "slow_function()\n"
      ],
      "metadata": {
        "colab": {
          "base_uri": "https://localhost:8080/"
        },
        "id": "Uj4e5-aNeUK2",
        "outputId": "56ab67ab-1f6b-4ce2-e5b1-ad45eee84fc2"
      },
      "execution_count": 18,
      "outputs": [
        {
          "output_type": "stream",
          "name": "stdout",
          "text": [
            "Function executed!\n",
            "Execution time of 'slow_function': 2.0004 seconds\n"
          ]
        }
      ]
    },
    {
      "cell_type": "markdown",
      "source": [
        "Explanation:\n",
        "measure_execution_time(func):\n",
        "\n",
        "This is the decorator function. It takes the function func that we want to decorate as an argument.\n",
        "wrapper(*args, **kwargs):\n",
        "\n",
        "Inside the decorator, we define an inner function wrapper that accepts any arguments (*args, **kwargs) passed to the decorated function.\n",
        "The wrapper function records the start time, calls the original function func, and then records the end time. It calculates the execution time and prints it.\n",
        "Finally, it returns the result of the original function (to preserve its functionality).\n",
        "@measure_execution_time:This is the decorator syntax in Python. It applies the measure_execution_time decorator to the slow_function.\n",
        "slow_function():\n",
        "\n",
        "This is a sample function that simulates a time-consuming task by sleeping for 2 seconds using time.sleep(2)."
      ],
      "metadata": {
        "id": "Q97iqd27e4hf"
      }
    },
    {
      "cell_type": "markdown",
      "source": [
        "**13. Explain the concept of the Diamond Problem in multiple inheritance. How does Python resolve it?**\n",
        "\n",
        "**Ans.** The Diamond Problem is an issue that arises in multiple inheritance, particularly in languages that allow a class to inherit from more than one base class. It occurs when a class inherits from two or more classes that have a common ancestor, leading to ambiguity about which class method should be called if the method exists in both the common ancestor and the subclasses.\n",
        "\n",
        "Understanding the Diamond Problem\n",
        "Consider the following class hierarchy:"
      ],
      "metadata": {
        "id": "58m09X72e-JS"
      }
    },
    {
      "cell_type": "code",
      "source": [
        "        A\n",
        "       / \\\n",
        "      B   C\n",
        "       \\ /\n",
        "        D\n"
      ],
      "metadata": {
        "colab": {
          "base_uri": "https://localhost:8080/",
          "height": 110
        },
        "id": "m5bpVX1xe1EG",
        "outputId": "4ce289c0-5707-4950-ef07-99fbde257080"
      },
      "execution_count": 19,
      "outputs": [
        {
          "output_type": "error",
          "ename": "IndentationError",
          "evalue": "unexpected indent (<ipython-input-19-2713e36ec7cc>, line 2)",
          "traceback": [
            "\u001b[0;36m  File \u001b[0;32m\"<ipython-input-19-2713e36ec7cc>\"\u001b[0;36m, line \u001b[0;32m2\u001b[0m\n\u001b[0;31m    (B, C)\u001b[0m\n\u001b[0m    ^\u001b[0m\n\u001b[0;31mIndentationError\u001b[0m\u001b[0;31m:\u001b[0m unexpected indent\n"
          ]
        }
      ]
    },
    {
      "cell_type": "markdown",
      "source": [
        "Class A is the root of the inheritance hierarchy.\n",
        "Class B and Class C both inherit from Class A.\n",
        "Class D inherits from both Class B and Class C.\n",
        "In this case, when Class D calls a method that exists in Class A, Class B, or Class C, the question arises: Which method should be called? There are two possible solutions:\n",
        "\n",
        "Should Class B's version of the method be called (since D inherits from B)?\n",
        "Or should Class C's version be called (since D inherits from C)?\n",
        "This creates ambiguity, and Python needs a way to handle this problem."
      ],
      "metadata": {
        "id": "odSu7D6KfX1T"
      }
    },
    {
      "cell_type": "code",
      "source": [
        "class A:\n",
        "    def method(self):\n",
        "        print(\"Method in Class A\")\n",
        "\n",
        "class B(A):\n",
        "    def method(self):\n",
        "        print(\"Method in Class B\")\n",
        "\n",
        "class C(A):\n",
        "    def method(self):\n",
        "        print(\"Method in Class C\")\n",
        "\n",
        "class D(B, C):\n",
        "    pass\n",
        "\n",
        "# Create an instance of D\n",
        "d = D()\n",
        "d.method()  # Which method will be called?\n"
      ],
      "metadata": {
        "colab": {
          "base_uri": "https://localhost:8080/"
        },
        "id": "7uZx8l9SfR8k",
        "outputId": "44ff2212-3ade-4a28-9c6a-c394e381d974"
      },
      "execution_count": 20,
      "outputs": [
        {
          "output_type": "stream",
          "name": "stdout",
          "text": [
            "Method in Class B\n"
          ]
        }
      ]
    },
    {
      "cell_type": "markdown",
      "source": [
        "What Happens in the Above Code?\n",
        "In the class D, we inherit from both B and C, and both B and C override the method() from A. When we call d.method(), which version of the method should be executed: the one from B or C?\n",
        "\n",
        "Python's Solution: Method Resolution Order (MRO)\n",
        "Python uses the Method Resolution Order (MRO) to resolve the Diamond Problem. The MRO defines the order in which Python looks for a method when it is called on an object. Python uses the C3 linearization algorithm to determine this order.\n",
        "\n",
        "The MRO ensures that the method lookup follows a well-defined order of classes. In Python, you can see the MRO of a class by using the mro() method or the __mro__ attribute.\n",
        "In the case of the class D, the MRO will look like this:"
      ],
      "metadata": {
        "id": "dQIj1kqKfeT9"
      }
    },
    {
      "cell_type": "code",
      "source": [
        "D -> B -> C -> A -> object\n"
      ],
      "metadata": {
        "id": "fjpxxVzgfbJV"
      },
      "execution_count": null,
      "outputs": []
    },
    {
      "cell_type": "markdown",
      "source": [
        "This means that when d.method() is called:\n",
        "\n",
        "Python first looks in D.\n",
        "Since D doesn’t have an implementation of method(), it moves to B.\n",
        "Since B has an implementation of method(), it calls B's method().\n",
        "Output of the Example:"
      ],
      "metadata": {
        "id": "zyHAank1fpzB"
      }
    },
    {
      "cell_type": "code",
      "source": [
        "Method in Class B\n"
      ],
      "metadata": {
        "id": "mo9gsveGfsTK"
      },
      "execution_count": null,
      "outputs": []
    },
    {
      "cell_type": "markdown",
      "source": [
        "How to Check the MRO:\n",
        "You can check the MRO of a class using the mro() method or __mro__ attribute:\n",
        "\n",
        "python\n",
        "Copy\n"
      ],
      "metadata": {
        "id": "Fj3qFNCnfvWk"
      }
    },
    {
      "cell_type": "code",
      "source": [
        "print(D.mro())   # Method 1\n",
        "# or\n",
        "print(D.__mro__)  # Method 2\n"
      ],
      "metadata": {
        "colab": {
          "base_uri": "https://localhost:8080/"
        },
        "id": "4ynPR1ejf2Sp",
        "outputId": "161b8550-0e0c-486e-911c-840be6bb14a7"
      },
      "execution_count": 21,
      "outputs": [
        {
          "output_type": "stream",
          "name": "stdout",
          "text": [
            "[<class '__main__.D'>, <class '__main__.B'>, <class '__main__.C'>, <class '__main__.A'>, <class 'object'>]\n",
            "(<class '__main__.D'>, <class '__main__.B'>, <class '__main__.C'>, <class '__main__.A'>, <class 'object'>)\n"
          ]
        }
      ]
    },
    {
      "cell_type": "markdown",
      "source": [
        "print(D.mro())   # Method 1\n",
        "# or\n",
        "print(D.__mro__)  # Method 2\n"
      ],
      "metadata": {
        "id": "ZlJfApSlf88i"
      }
    },
    {
      "cell_type": "markdown",
      "source": [
        "Summary of Python's MRO (C3 Linearization):\n",
        "The C3 linearization algorithm ensures that the method resolution order is consistent.\n",
        "The MRO avoids ambiguity by specifying a strict order of classes to check when calling a method, resolving the Diamond Problem.\n",
        "The MRO can be checked using mro() or __mro__ to understand the lookup order.\n",
        "Conclusion:\n",
        "The Diamond Problem is a challenge in multiple inheritance where ambiguity arises about which method should be called when a class inherits from multiple classes that share a common ancestor. Python resolves this problem using the C3 linearization algorithm, which ensures a clear and consistent Method Resolution Order (MRO), preventing ambiguity in method lookups."
      ],
      "metadata": {
        "id": "2rDVHA_YgCqJ"
      }
    },
    {
      "cell_type": "markdown",
      "source": [
        "**14. Write a class method that keeps track of the number of instances created from a class.**\n",
        "\n",
        "**Ans.**To track the number of instances created from a class, we can use a class variable to maintain the count and a class method to increment and access that count.\n",
        "\n",
        "Example: Class Method to Track Number of Instances\n",
        "Here's how you can implement it:"
      ],
      "metadata": {
        "id": "1TiJkSXZgHwy"
      }
    },
    {
      "cell_type": "code",
      "source": [
        "class MyClass:\n",
        "    # Class variable to keep track of the instance count\n",
        "    instance_count = 0\n",
        "\n",
        "    def __init__(self):\n",
        "        # Increment the instance count every time a new object is created\n",
        "        MyClass.instance_count += 1\n",
        "\n",
        "    # Class method to get the number of instances\n",
        "    @classmethod\n",
        "    def get_instance_count(cls):\n",
        "        return cls.instance_count\n",
        "\n",
        "# Creating instances of MyClass\n",
        "obj1 = MyClass()\n",
        "obj2 = MyClass()\n",
        "obj3 = MyClass()\n",
        "\n",
        "# Using the class method to get the number of instances created\n",
        "print(f\"Number of instances created: {MyClass.get_instance_count()}\")\n"
      ],
      "metadata": {
        "colab": {
          "base_uri": "https://localhost:8080/"
        },
        "id": "TE2Kw0SNgZIS",
        "outputId": "376e8bba-5dbf-401b-eb15-447aff68bcdd"
      },
      "execution_count": 22,
      "outputs": [
        {
          "output_type": "stream",
          "name": "stdout",
          "text": [
            "Number of instances created: 3\n"
          ]
        }
      ]
    },
    {
      "cell_type": "markdown",
      "source": [
        "Explanation:\n",
        "Class Variable (instance_count):\n",
        "We define a class variable instance_count to keep track of the number of instances created. This variable is shared by all instances of the class.\n",
        "Constructor (__init__):\n",
        "Each time a new instance is created, the constructor (__init__) is called, and we increment the instance_count by 1 to reflect the new object creation.Class Method (get_instance_count):\n",
        "The @classmethod decorator is used to define a class method. This method takes cls (the class itself) as its first parameter, and we use it to access the class variable instance_count.\n",
        "The class method get_instance_count() simply returns the current count of instances created.\n",
        "Key Points:\n",
        "Class variable: instance_count is used to store the total number of instances created. It is shared across all instances of the class.\n",
        "Class method: get_instance_count() is used to access the class variable and return the number of instances created.\n",
        "Constructor (__init__): Every time a new object is created, the constructor is called and increments the count."
      ],
      "metadata": {
        "id": "oAmhbMFoggtL"
      }
    },
    {
      "cell_type": "markdown",
      "source": [
        "**15. Implement a static method in a class that checks if a given year is a leap year.**\n",
        "\n",
        "**Ans.** A static method in Python is a method that doesn't depend on instance-specific data. It belongs to the class rather than any specific instance and is often used for utility functions that perform a task independent of the object's state.\n",
        "\n",
        "To implement a static method that checks if a given year is a leap year, we can follow these steps:\n",
        "\n",
        "Leap Year Rule:\n",
        "A year is a leap year if:\n",
        "\n",
        "It is divisible by 4.\n",
        "However, if it is divisible by 100, it must also be divisible by 400 to be a leap year."
      ],
      "metadata": {
        "id": "f00jWoHQg-Cy"
      }
    },
    {
      "cell_type": "code",
      "source": [
        "class DateUtils:\n",
        "    @staticmethod\n",
        "    def is_leap_year(year):\n",
        "        # Check if the year is a leap year\n",
        "        if (year % 4 == 0 and year % 100 != 0) or (year % 400 == 0):\n",
        "            return True\n",
        "        return False\n",
        "\n",
        "# Testing the static method\n",
        "year = 2024\n",
        "print(f\"Is {year} a leap year? {DateUtils.is_leap_year(year)}\")\n",
        "\n",
        "year = 1900\n",
        "print(f\"Is {year} a leap year? {DateUtils.is_leap_year(year)}\")\n",
        "\n",
        "year = 2000\n",
        "print(f\"Is {year} a leap year? {DateUtils.is_leap_year(year)}\")\n",
        "\n",
        "year = 2023\n",
        "print(f\"Is {year} a leap year? {DateUtils.is_leap_year(year)}\")\n"
      ],
      "metadata": {
        "colab": {
          "base_uri": "https://localhost:8080/"
        },
        "id": "FYS2itY_g6yF",
        "outputId": "3e3bc601-7e26-458e-e588-d581baef03e8"
      },
      "execution_count": 23,
      "outputs": [
        {
          "output_type": "stream",
          "name": "stdout",
          "text": [
            "Is 2024 a leap year? True\n",
            "Is 1900 a leap year? False\n",
            "Is 2000 a leap year? True\n",
            "Is 2023 a leap year? False\n"
          ]
        }
      ]
    },
    {
      "cell_type": "markdown",
      "source": [
        "Explanation:\n",
        "Static Method:\n",
        "The is_leap_year method is marked with the @staticmethod decorator. This means it doesn't depend on any instance-specific data and can be called directly on the class.\n",
        "Leap Year Calculation:\n",
        "The method checks the year using the leap year rules. If the year is divisible by 4 but not by 100, or if it is divisible by 400, it is a leap year.\n",
        "Testing the Method:\n",
        "We call the static method DateUtils.is_leap_year() with various years to check if they are leap years.\n",
        "Key Points:\n",
        "Static Method: The @staticmethod decorator is used to define a static method. It doesn't take self or cls as its first argument, and it's used for operations that don't require access to instance or class-specific data.\n",
        "Leap Year Logic: The leap year rules are checked inside the method, and it returns True if the year is a leap year, otherwise False.\n",
        "Utility Method: Static methods are great for utility functions that perform a task independent of the class instance."
      ],
      "metadata": {
        "id": "WBL7q5FWhdbh"
      }
    }
  ]
}